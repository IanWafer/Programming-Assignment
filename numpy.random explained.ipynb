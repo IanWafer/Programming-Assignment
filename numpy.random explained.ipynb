{
 "cells": [
  {
   "cell_type": "markdown",
   "metadata": {},
   "source": [
    "# The numpy.random Package\n",
    "\n",
    "Ian Wafer\n",
    "G00376322\n",
    "\n",
    "Programming for data analytics module no. 52465"
   ]
  },
  {
   "cell_type": "markdown",
   "metadata": {},
   "source": [
    "## Introduction\n",
    "\n",
    "NumPy is a specialist package that is essential for scientific computing in Python. It deals in various arrays from lists generally in a 2 dimensional array for performing calculations which Python cannot do in an efficient manner. Resizing photos or song conversions and any vector driven computations work most efficiently using a matrix operaton making NumPuy an essential package. It has also become increasingly more important for machine learning and deep learning to make efficient use of vast quantities of numeric information. \n",
    "\n",
    "The numpy.random function within NumPy produces pseudorandom samples of data using Bitgenerator and Generator to create samples from various statistical distributions. There are numerous methods of displaying random data within certain limitations that would be beneficial in a research environment such as probability or bayesian statistics and so there are a range of different functions within the numpy.random package to account for a multitude of uses. Since it is impossible for a computer to generate truly random numbers the numpy.random packages has several varitions of the  It can produce data as described under the following below headings-\n",
    "\n",
    "[Simple Random Data](#Simple)\n",
    "<br>[Permutations](#Permutations)\n",
    "<br>[Distributions](#Distributions)\n",
    "<br>[Random Generator](#Random)\n",
    "\n",
    "***"
   ]
  },
  {
   "cell_type": "markdown",
   "metadata": {},
   "source": [
    "## Simple Random Data<a id='Simple'></a>\n",
    "\n",
    "This includes generating and returning random floats, integers shapes bytes and 1-D arrays. The type of data used is determined by the suffix. Simple random data can be used for generating data noise for determinging probability on empirically derived data. The following are avaiable with examples shown bolded below-\n",
    "<br>**rand(d0, d1, …, dn)**\n",
    "<br>**randn(d0, d1, …, dn)**\n",
    "<br>**randint(low[,high, size, dtype])**\n",
    "<br>random_integers(low[, high, size])\n",
    "<br>random_sample([size])\n",
    "<br>random([size])\n",
    "<br>ranf([size])\n",
    "<br>sample([size])\n",
    "<br>**choice(a[, size, replace, p])**\n",
    "<br>bytes(length)"
   ]
  },
  {
   "cell_type": "markdown",
   "metadata": {},
   "source": [
    "#### rand(d0, d1, …, dn)\n",
    "This function returns random floats from a uniform distribution of [0,1) (inclusive of 0 and exclusive of 1) in the shape of an array in the arrangement of the contents of the paranthesis in the form of numpy.random.rand(d0,d1,...,dn) where d$_{i}$ in the paranthesis is optional but if entered must be positive integers. If no argument is presented within the paranthesis a single float is returned. If a negative integer or a float of any value is given within the paranthesis then this will result in an error. "
   ]
  },
  {
   "cell_type": "code",
   "execution_count": 2,
   "metadata": {
    "scrolled": false
   },
   "outputs": [
    {
     "name": "stdout",
     "output_type": "stream",
     "text": [
      "np.random.rand(20)= \n",
      "[0.80727071 0.98204738 0.80568635 0.23534373 0.83942343 0.70065032\n",
      " 0.30493024 0.85737215 0.0690114  0.49327824 0.53652117 0.54967833\n",
      " 0.68074907 0.30399155 0.6679087  0.44977385 0.96591685 0.32688259\n",
      " 0.07240645 0.45322567]\n"
     ]
    },
    {
     "data": {
      "text/plain": [
       "<Figure size 640x480 with 1 Axes>"
      ]
     },
     "metadata": {},
     "output_type": "display_data"
    },
    {
     "name": "stdout",
     "output_type": "stream",
     "text": [
      "np.random.rand(3,4)= \n",
      "[[0.56580348 0.98757455 0.24027543 0.57372791]\n",
      " [0.57277195 0.65495509 0.32673331 0.78229029]\n",
      " [0.92586154 0.79162229 0.4944968  0.86882386]]\n"
     ]
    },
    {
     "data": {
      "text/plain": [
       "([array([0., 0., 0., 0., 2., 0., 0., 0., 0., 1.]),\n",
       "  array([0., 0., 0., 0., 0., 1., 0., 1., 0., 1.]),\n",
       "  array([1., 1., 0., 1., 0., 0., 0., 0., 0., 0.]),\n",
       "  array([0., 0., 0., 0., 1., 0., 0., 1., 1., 0.])],\n",
       " array([0.24027543, 0.31500534, 0.38973525, 0.46446517, 0.53919508,\n",
       "        0.61392499, 0.6886549 , 0.76338482, 0.83811473, 0.91284464,\n",
       "        0.98757455]),\n",
       " <a list of 4 Lists of Patches objects>)"
      ]
     },
     "execution_count": 2,
     "metadata": {},
     "output_type": "execute_result"
    }
   ],
   "source": [
    "import numpy as np\n",
    "import matplotlib.pyplot as plt\n",
    "\n",
    "x = np.random.rand(20) # Returns 20 random variables in a list\n",
    "y = np.random.rand(3,4) # Returns an array of 12 random variables in the shape defined within the paranthesis\n",
    "\n",
    "print(\"np.random.rand(20)= \")\n",
    "print(x)\n",
    "\n",
    "plt.hist(x)\n",
    "plt.show()\n",
    "\n",
    "print(\"np.random.rand(3,4)= \")\n",
    "print(y)\n",
    "plt.hist(y)\n"
   ]
  },
  {
   "cell_type": "markdown",
   "metadata": {},
   "source": [
    "***"
   ]
  },
  {
   "cell_type": "markdown",
   "metadata": {},
   "source": [
    "#### randn(d0, d1, …, dn)\n",
    "If in place of the suffix rand we used randn then the returned values within the array would be a random normal distribution filled with random floats sampled from a univariate “normal” (Gaussian) distribution of mean 0 and variance 1. This would be a typical bell curve arrangement as shown above where the trend trend towards 0. \n"
   ]
  },
  {
   "cell_type": "code",
   "execution_count": 47,
   "metadata": {
    "scrolled": false
   },
   "outputs": [
    {
     "data": {
      "text/plain": [
       "(array([  3.,  12.,  60., 147., 229., 253., 184.,  81.,  23.,   8.]),\n",
       " array([-3.37163266, -2.71617357, -2.06071448, -1.40525538, -0.74979629,\n",
       "        -0.09433719,  0.5611219 ,  1.21658099,  1.87204009,  2.52749918,\n",
       "         3.18295828]),\n",
       " <a list of 10 Patch objects>)"
      ]
     },
     "execution_count": 47,
     "metadata": {},
     "output_type": "execute_result"
    },
    {
     "data": {
      "image/png": "[encoded data removed]",
      "text/plain": [
       "<Figure size 432x288 with 1 Axes>"
      ]
     },
     "metadata": {
      "needs_background": "light"
     },
     "output_type": "display_data"
    }
   ],
   "source": [
    "z = np.random.randn(1000)\n",
    "\n",
    "plt.hist(z)"
   ]
  },
  {
   "cell_type": "markdown",
   "metadata": {},
   "source": [
    "***"
   ]
  },
  {
   "cell_type": "markdown",
   "metadata": {},
   "source": [
    "#### randint(low[,high, size, dtype])\n",
    "\n",
    "This function returns an array of integers between values presented in the initial values of the paranthesis with the first value being inclusive and defined as the low and the second value being exclusive and being defined as the high. The size of the array is then defined by the size= section which follows the same rules of numpy.random.rand function above."
   ]
  },
  {
   "cell_type": "code",
   "execution_count": 74,
   "metadata": {},
   "outputs": [
    {
     "data": {
      "text/plain": [
       "array([[17,  3],\n",
       "       [10, 18],\n",
       "       [15, 17]])"
      ]
     },
     "execution_count": 74,
     "metadata": {},
     "output_type": "execute_result"
    }
   ],
   "source": [
    "np.random.randint(3,24,size=(3,2),dtype=int)"
   ]
  },
  {
   "cell_type": "markdown",
   "metadata": {},
   "source": [
    "***"
   ]
  },
  {
   "cell_type": "markdown",
   "metadata": {},
   "source": [
    "#### choice(a[, size, replace, p])\n",
    "This function returns a random sample from a 1 dimensional array. The \"a\" is the aray of input values. It is the high limit from 0-a with \"a\" being exclusive. it accepts Python lists, tuples and other Pyhton sequences. Size is the size of the array returned. The replace function defines if elements may be repeated. If replace is False then size must be $\\le$ a. The p is the probability of each indivdual element being displayed. The quantity of values in p must be equal to the quantity of elements defined by a. The values of p must also sum up to 1. If no p value is given a uniform distribution is assumed. "
   ]
  },
  {
   "cell_type": "code",
   "execution_count": 33,
   "metadata": {
    "scrolled": false
   },
   "outputs": [
    {
     "data": {
      "text/plain": [
       "array([6, 4, 5, 2, 1])"
      ]
     },
     "execution_count": 33,
     "metadata": {},
     "output_type": "execute_result"
    }
   ],
   "source": [
    "np.random.choice(7, 5, replace=False, p=[0.3, 0.1, 0.05, 0.05, 0.25,0.1 , 0.15])"
   ]
  },
  {
   "cell_type": "markdown",
   "metadata": {},
   "source": [
    "***"
   ]
  },
  {
   "cell_type": "markdown",
   "metadata": {},
   "source": [
    "## Permutations<a id='Permutations'></a> \n",
    "Either randomly shuffle an existing sequence or generate and return a permutated sequence. The following are avaiable-\n",
    "<br> shuffle(x)\t\n",
    "**permutation(x)**\t"
   ]
  },
  {
   "cell_type": "markdown",
   "metadata": {},
   "source": [
    "#### permutation(x)\n",
    "\n",
    "This will return or alter a sequence of elements in an array. If the elements are defined in an array it will alter the sequence. If only an integer is presented as x then a number of elements equal to x will be generated. "
   ]
  },
  {
   "cell_type": "code",
   "execution_count": 19,
   "metadata": {},
   "outputs": [
    {
     "data": {
      "text/plain": [
       "array([9, 4, 0, 1, 6, 8, 5, 3, 2, 7])"
      ]
     },
     "execution_count": 19,
     "metadata": {},
     "output_type": "execute_result"
    }
   ],
   "source": [
    "np.random.permutation(10)"
   ]
  },
  {
   "cell_type": "code",
   "execution_count": 13,
   "metadata": {},
   "outputs": [
    {
     "data": {
      "text/plain": [
       "array([76, 98, 36, 61,  4, 45, 63])"
      ]
     },
     "execution_count": 13,
     "metadata": {},
     "output_type": "execute_result"
    }
   ],
   "source": [
    "np.random.permutation([76, 4, 36, 98, 45, 63, 61])"
   ]
  },
  {
   "cell_type": "markdown",
   "metadata": {},
   "source": [
    "***"
   ]
  },
  {
   "cell_type": "markdown",
   "metadata": {},
   "source": [
    "## Distributions<a id='Distributions'></a>\n",
    "This can draw samples from a number of different probability distributions. The following are avaiable-\n",
    "<br>beta(a, b[, size])\n",
    "<br>**binomial(n, p[, size])**\n",
    "<br>chisquare(df[, size])\n",
    "<br>dirichlet(alpha[, size])\n",
    "<br>exponential([scale, size])\n",
    "<br>f(dfnum, dfden[, size])\n",
    "<br>gamma(shape[, scale, size])\n",
    "<br>geometric(p[, size])\n",
    "<br>gumbel([loc, scale, size])\n",
    "<br>hypergeometric(ngood, nbad, nsample[, size])\n",
    "<br>laplace([loc, scale, size])\n",
    "<br>logistic([loc, scale, size])\n",
    "<br>**lognormal([mean, sigma, size])**\n",
    "<br>logseries(p[, size])\n",
    "<br>**multinomial(n, pvals[, size])**\n",
    "<br>multivariate_normal(mean, cov[, size, …)\n",
    "<br>negative_binomial(n, p[, size])\n",
    "<br>noncentral_chisquare(df, nonc[, size])\n",
    "<br>noncentral_f(dfnum, dfden, nonc[, size])\n",
    "<br>normal([loc, scale, size])\n",
    "<br>pareto(a[, size])\n",
    "<br>poisson([lam, size])\n",
    "<br>power(a[, size])\n",
    "<br>rayleigh([scale, size])\n",
    "<br>standard_cauchy([size])\n",
    "<br>**standard_exponential([size])**\n",
    "<br>standard_gamma(shape[, size])\n",
    "<br>standard_normal([size])\n",
    "<br>standard_t(df[, size])\n",
    "<br>triangular(left, mode, right[, size])\n",
    "<br>**uniform([low, high, size])**\n",
    "<br>vonmises(mu, kappa[, size])\n",
    "<br>wald(mean, scale[, size])\n",
    "<br>weibull(a[, size])\n",
    "<br>zipf(a[, size])"
   ]
  },
  {
   "cell_type": "markdown",
   "metadata": {},
   "source": [
    "#### binomial(n, p[, size])\n",
    "\n",
    "A binomial distribution is a distribution of numbers with a uniform probability of success determined over a number of Bernoulli trials where each outcome is independent of the others. It can be used to predict genetic phenotypes, outcomes in games of chance and defective products per batch, success rate of cold callers among a mulitude of others.\n",
    "\n",
    "In the case of the coding the n refers to the number of trials, p is the probability of success and size is the size of the return which can be used to run multiple runs of the same test in a single setting. \n",
    "\n",
    "In the example below we can see the result of how many occurences of a single card drawn from a deck of 52 cards if we run the experiment 1,000 times. This is then run 10 times which each individual result shown. In the graph shown we can seee the grouping of the majority of values around the 19 and 20 mark which is what would be expected."
   ]
  },
  {
   "cell_type": "code",
   "execution_count": 122,
   "metadata": {},
   "outputs": [
    {
     "data": {
      "text/plain": [
       "Text(0, 0.5, 'Occurences')"
      ]
     },
     "execution_count": 122,
     "metadata": {},
     "output_type": "execute_result"
    },
    {
     "data": {
      "image/png": "[encoded data removed]",
      "text/plain": [
       "<Figure size 432x288 with 1 Axes>"
      ]
     },
     "metadata": {
      "needs_background": "light"
     },
     "output_type": "display_data"
    }
   ],
   "source": [
    "a = np.random.binomial(1000, 1/52, 10000)\n",
    "\n",
    "plt.hist(a, bins=25)\n",
    "plt.xlabel('Experiments')\n",
    "plt.ylabel('Occurences')"
   ]
  },
  {
   "cell_type": "markdown",
   "metadata": {},
   "source": [
    "***"
   ]
  },
  {
   "cell_type": "markdown",
   "metadata": {},
   "source": [
    "#### lognormal([mean, sigma, size])\n",
    "\n",
    "A log-normal distribution is a distribution of logarithmic values with a normal distribution. This is commonly used in financial institutions in the analysis of stock prices in calculating the compound return from the stock over a given time frame. Log normal distributions include all positive values while normal distributions can include negative random variables. \n",
    "\n",
    "The mean refers to the value from which the normal dsitribution is drawn with a default value of 0. Sigma refers to the standard deviation from the normal distribution. Standard deviation is a measure of the quantity of the group differs from the mean. This value has a default value of 1 and should always be greater than zero. Size refers to the size of the array generated.\n",
    "\n",
    "In the example below you can see an initial sharp increase and then steady quick decline toward 0.\n",
    "\n"
   ]
  },
  {
   "cell_type": "code",
   "execution_count": 141,
   "metadata": {},
   "outputs": [
    {
     "data": {
      "text/plain": [
       "(array([135., 244., 188., 127.,  82.,  65.,  42.,  22.,  28.,  24.,  11.,\n",
       "          9.,   8.,   6.,   2.,   1.,   1.,   1.,   1.,   1.,   0.,   1.,\n",
       "          0.,   0.,   1.]),\n",
       " array([0.09278515, 0.43047802, 0.7681709 , 1.10586378, 1.44355666,\n",
       "        1.78124954, 2.11894242, 2.4566353 , 2.79432817, 3.13202105,\n",
       "        3.46971393, 3.80740681, 4.14509969, 4.48279257, 4.82048545,\n",
       "        5.15817832, 5.4958712 , 5.83356408, 6.17125696, 6.50894984,\n",
       "        6.84664272, 7.1843356 , 7.52202847, 7.85972135, 8.19741423,\n",
       "        8.53510711]),\n",
       " <a list of 25 Patch objects>)"
      ]
     },
     "execution_count": 141,
     "metadata": {},
     "output_type": "execute_result"
    },
    {
     "data": {
      "image/png": "[encoded data removed]",
      "text/plain": [
       "<Figure size 432x288 with 1 Axes>"
      ]
     },
     "metadata": {
      "needs_background": "light"
     },
     "output_type": "display_data"
    }
   ],
   "source": [
    "b = np.random.lognormal(0, 0.75, 1000)\n",
    "plt.hist(b, bins=25)"
   ]
  },
  {
   "cell_type": "markdown",
   "metadata": {},
   "source": [
    "#### multinomial(n, pvals[, size])\n",
    "\n",
    "The multinomial distribution is a generalisation of the binomial distribution. "
   ]
  },
  {
   "cell_type": "code",
   "execution_count": 174,
   "metadata": {},
   "outputs": [
    {
     "data": {
      "text/plain": [
       "array([[ 6,  9, 10,  8,  7,  3, 11,  6,  8,  9,  7,  8,  8],\n",
       "       [ 3, 11,  6,  4, 11,  7, 13,  8, 11,  4,  7,  9,  6]])"
      ]
     },
     "execution_count": 174,
     "metadata": {},
     "output_type": "execute_result"
    }
   ],
   "source": [
    "np.random.multinomial(100, [1/13.]*13, size=2)"
   ]
  },
  {
   "cell_type": "markdown",
   "metadata": {},
   "source": [
    "***"
   ]
  },
  {
   "cell_type": "markdown",
   "metadata": {},
   "source": [
    "#### standard_exponential([size])\n",
    "\n",
    "The standard exponential draws a float or array from the standard exponential distributed. The exponential distribution is when an event occurs at an constant average rate and occurs independently of previous events and continuously. Its size is dictated by the value entered."
   ]
  },
  {
   "cell_type": "code",
   "execution_count": 156,
   "metadata": {},
   "outputs": [
    {
     "name": "stdout",
     "output_type": "stream",
     "text": [
      "[2.16877624 1.69357577 1.789832   0.87722552 1.4199895  0.54076746\n",
      " 0.09433308 0.63882131 0.28130199 0.44970864 0.74175453 0.13474224\n",
      " 0.05339123 1.0416961  0.56596674 0.7552573  0.67867609 2.49412629\n",
      " 0.98430433 0.63914695 0.28225674 0.49820114 0.58566944 0.56566466\n",
      " 0.3659909  0.89103737 0.16985951 0.02741564 4.9189046  0.57361058\n",
      " 0.72979454 2.47056032 0.0343031  0.20597686 1.8624909  1.96122588\n",
      " 1.70498773 1.66773818 0.51530817 0.41010635 0.41887859 0.07727647\n",
      " 0.01392999 1.66273593 1.51553734 0.19044679 0.96616631 1.25706431\n",
      " 4.31532643 1.06418774 1.14826697 1.28677271 0.64046225 0.02358267\n",
      " 1.00795961 2.50826421 1.9710713  1.44966187 1.37447952 0.9613257\n",
      " 1.44400136 1.62772262 0.08255749 0.66468624 3.14054335 0.40456716\n",
      " 0.30198698 0.60685775 0.46540414 0.46936074 0.48728389 0.55938476\n",
      " 2.49545912 1.08488783 2.02151233 0.22565367 0.06080413 3.5056991\n",
      " 1.01571906 1.10860273 0.12196784 2.98832077 2.88901509 2.81369248\n",
      " 0.08426323 0.67804898 0.19796557 0.13591891 0.34403838 0.25963256\n",
      " 1.72656118 0.41227593 0.66975067 0.66753652 0.30809263 1.31831841\n",
      " 0.20629423 0.43423623 1.44091031 1.20598857]\n"
     ]
    },
    {
     "data": {
      "text/plain": [
       "Text(0, 0.5, 'Value')"
      ]
     },
     "execution_count": 156,
     "metadata": {},
     "output_type": "execute_result"
    },
    {
     "data": {
      "image/png": "[encoded data removed]",
      "text/plain": [
       "<Figure size 432x288 with 1 Axes>"
      ]
     },
     "metadata": {
      "needs_background": "light"
     },
     "output_type": "display_data"
    }
   ],
   "source": [
    "c = np.random.standard_exponential(100)\n",
    "print(c)\n",
    "plt.plot(c)\n",
    "plt.xlabel('Array Position')\n",
    "plt.ylabel('Value')"
   ]
  },
  {
   "cell_type": "markdown",
   "metadata": {},
   "source": [
    "#### uniform([low, high, size])\n"
   ]
  },
  {
   "cell_type": "code",
   "execution_count": 179,
   "metadata": {},
   "outputs": [
    {
     "data": {
      "text/plain": [
       "array([0.13412094, 0.86268213, 0.57765493, 0.89657138, 0.64977209,\n",
       "       0.0893313 , 0.93393667, 0.59728839, 0.09549215, 0.94663753,\n",
       "       0.47720008, 0.11745396, 0.63141317, 0.18152405, 0.66893011,\n",
       "       0.12155193, 0.79211762, 0.76492181, 0.39281722, 0.97694139,\n",
       "       0.8291852 , 0.9586078 , 0.07098933, 0.15235791, 0.21897617,\n",
       "       0.26101888, 0.4653356 , 0.61834051, 0.78583187, 0.95830726,\n",
       "       0.32056936, 0.68322305, 0.86341922, 0.86004518, 0.46216587,\n",
       "       0.96309333, 0.18205267, 0.26906309, 0.80891847, 0.54497023,\n",
       "       0.28668135, 0.12689274, 0.82555198, 0.62471793, 0.8514736 ,\n",
       "       0.43404075, 0.9375278 , 0.40356719, 0.93451604, 0.85216846])"
      ]
     },
     "execution_count": 179,
     "metadata": {},
     "output_type": "execute_result"
    }
   ],
   "source": [
    "np.random.uniform(0,1,50)"
   ]
  },
  {
   "cell_type": "markdown",
   "metadata": {},
   "source": [
    "***"
   ]
  },
  {
   "cell_type": "markdown",
   "metadata": {},
   "source": [
    "## Random Generator<a id='Random'></a>\n",
    "This is a container for the Mersenne Twister pseudo-random number generator. The following are avaiable-\n",
    "<br>**RandomState([seed])**\n",
    "<br>seed([seed])\n",
    "<br>get_state()\n",
    "<br>set_state(state)"
   ]
  },
  {
   "cell_type": "markdown",
   "metadata": {},
   "source": [
    "#### RandomState([seed])\n",
    "\n",
    "Since numpy.random is only a pseudorandom generator we can use a seed to give us predictable results. This is usefu when testing code. Essentially this gives us a starting point for the random generator. "
   ]
  },
  {
   "cell_type": "code",
   "execution_count": 18,
   "metadata": {},
   "outputs": [
    {
     "data": {
      "text/plain": [
       "<mtrand.RandomState at 0x1773e434990>"
      ]
     },
     "execution_count": 18,
     "metadata": {},
     "output_type": "execute_result"
    }
   ],
   "source": [
    "np.random.RandomState(seed=50)"
   ]
  },
  {
   "cell_type": "markdown",
   "metadata": {},
   "source": [
    "***"
   ]
  },
  {
   "cell_type": "markdown",
   "metadata": {},
   "source": [
    "Source: https://docs.scipy.org/doc/numpy-1.15.1/reference/routines.random.html Accessed 22/10/19\n",
    "https://www.ibm.com/support/knowledgecenter/en/SSGNPV_1.1.3/dsx/markd-jupyter.html Accessed 22/10/19\n",
    "https://stattrek.com/probability-distributions/binomial.aspx Accessed 1/11/19\n",
    "https://stackoverflow.com/questions/40689152/what-does-replacement-mean-in-numpy-random-choice Accessed 3/11/19\n",
    "https://math.meta.stackexchange.com/questions/21841/how-to-type-greater-than-or-equal-to-symbols Accessed 3/11/1\n",
    "https://blog.quantinsti.com/python-numpy-tutorial-installation-arrays-random-sampling/ Accessed 3/11/19\n",
    "https://www.investopedia.com/terms/l/log-normal-distribution.asp Accesssed 4/11/19\n",
    "https://towardsdatascience.com/fun-with-the-binomial-distribution-96a5ecabf65b Accessed 4/11/19"
   ]
  },
  {
   "cell_type": "code",
   "execution_count": null,
   "metadata": {},
   "outputs": [],
   "source": []
  }
 ],
 "metadata": {
  "kernelspec": {
   "display_name": "Python 3",
   "language": "python",
   "name": "python3"
  },
  "language_info": {
   "codemirror_mode": {
    "name": "ipython",
    "version": 3
   },
   "file_extension": ".py",
   "mimetype": "text/x-python",
   "name": "python",
   "nbconvert_exporter": "python",
   "pygments_lexer": "ipython3",
   "version": "3.7.1"
  }
 },
 "nbformat": 4,
 "nbformat_minor": 2
}
