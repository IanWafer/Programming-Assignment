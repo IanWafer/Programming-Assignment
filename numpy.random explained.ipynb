{
 "cells": [
  {
   "cell_type": "markdown",
   "metadata": {},
   "source": [
    "numpy.random is a feature of the NumPy package in Python. It produces random samples of data using Bitgenerator and Generator to create samples from various statistical distributions. "
   ]
  },
  {
   "cell_type": "code",
   "execution_count": 41,
   "metadata": {},
   "outputs": [
    {
     "data": {
      "text/plain": [
       "array([[0.63705627, 0.23841449, 0.41660665, 0.73693563],\n",
       "       [0.39070389, 0.28431504, 0.32251272, 0.67875833],\n",
       "       [0.47136702, 0.31299488, 0.72058678, 0.45721015]])"
      ]
     },
     "execution_count": 41,
     "metadata": {},
     "output_type": "execute_result"
    }
   ],
   "source": [
    "import numpy\n",
    "\n",
    "numpy.random.rand(3,4)"
   ]
  },
  {
   "cell_type": "markdown",
   "metadata": {},
   "source": [
    "This function returns random floats from a uniform distribution of (0,1) in the shape of an array in the arrangement of the contents of the paranthesis in the form of numpy.random.rand(d0,d1,...,dn) where d$_{i}$ in the paranthesis is optional but if entered must be positive integers. If no argument is presented within the paranthesis a single float is returned.\n",
    "\n",
    "If in place of rand we used randn then the returned values within the array would be a random normal distribution filled with random floats sampled from a univariate “normal” (Gaussian) distribution of mean 0 and variance 1.\n",
    "\n"
   ]
  },
  {
   "cell_type": "code",
   "execution_count": null,
   "metadata": {},
   "outputs": [],
   "source": []
  }
 ],
 "metadata": {
  "kernelspec": {
   "display_name": "Python 3",
   "language": "python",
   "name": "python3"
  },
  "language_info": {
   "codemirror_mode": {
    "name": "ipython",
    "version": 3
   },
   "file_extension": ".py",
   "mimetype": "text/x-python",
   "name": "python",
   "nbconvert_exporter": "python",
   "pygments_lexer": "ipython3",
   "version": "3.7.1"
  }
 },
 "nbformat": 4,
 "nbformat_minor": 2
}
