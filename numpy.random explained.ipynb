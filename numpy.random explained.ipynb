{
 "cells": [
  {
   "cell_type": "markdown",
   "metadata": {},
   "source": [
    "# The numpy.random Package\n",
    "\n",
    "Ian Wafer\n",
    "G00376322\n",
    "\n",
    "Programming for data analytics module no. 52465"
   ]
  },
  {
   "cell_type": "markdown",
   "metadata": {},
   "source": [
    "NumPy is a specialist package that is essential for scientific computing in Python. It deals in various arrays from lists generally in a 2 dimensional array. Resizing photos or song conversions and any vector driven computations work most efficiently using a matrix operaton making NumPuy an essential package.\n",
    "\n",
    "The numpy.random function within NumPy produces random samples of data using Bitgenerator and Generator to create samples from various statistical distributions. It can produce the below data as described-\n",
    "\n",
    "[Simple Random Data](#Simple)\n",
    "<br>[Permutations](#Permutations)\n",
    "<br>[Distributions](#Distributions)\n",
    "<br>[Random Generator](#Random)"
   ]
  },
  {
   "cell_type": "markdown",
   "metadata": {},
   "source": [
    "## Simple Random Data<a id='Simple'></a>\n",
    "\n",
    "This includes generating and returning random floats, integers shapes bytes and 1-D arrays. The type of data used is determined by the ending. The following are avaiable with examples shown bolded below-\n",
    "<br>**rand(d0, d1, …, dn)**\n",
    "<br>**randn(d0, d1, …, dn)**\n",
    "<br>**randint(low[,high, size, dtype])**\n",
    "<br>random_integers(low[, high, size])\n",
    "<br>random_sample([size])\n",
    "<br>random([size])\n",
    "<br>ranf([size])\n",
    "<br>sample([size])\n",
    "<br>**choice(a[, size, replace, p])**\n",
    "<br>bytes(length)"
   ]
  },
  {
   "cell_type": "markdown",
   "metadata": {},
   "source": [
    "#### rand(d0, d1, …, dn)\n",
    "This function returns random floats from a uniform distribution of [0,1) (inclusive of 0 and exclusive of 1) in the shape of an array in the arrangement of the contents of the paranthesis in the form of numpy.random.rand(d0,d1,...,dn) where d$_{i}$ in the paranthesis is optional but if entered must be positive integers. If no argument is presented within the paranthesis a single float is returned. If a negative integer or a float of any value is given within the paranthesis then this will result in an error. "
   ]
  },
  {
   "cell_type": "code",
   "execution_count": 5,
   "metadata": {
    "scrolled": true
   },
   "outputs": [
    {
     "name": "stdout",
     "output_type": "stream",
     "text": [
      "np.random.rand(20)= \n",
      "[0.80998205 0.09061292 0.93001756 0.19465271 0.78635799 0.76117598\n",
      " 0.83159304 0.3480872  0.14003845 0.07573862 0.04262084 0.99684767\n",
      " 0.48685952 0.71823186 0.23571194 0.91569909 0.73585366 0.05618868\n",
      " 0.89074405 0.63518383]\n"
     ]
    },
    {
     "data": {
      "text/plain": [
       "<Figure size 640x480 with 1 Axes>"
      ]
     },
     "metadata": {},
     "output_type": "display_data"
    },
    {
     "name": "stdout",
     "output_type": "stream",
     "text": [
      "np.random.rand(3,4)= \n",
      "[[0.07894935 0.95054834 0.6790592  0.0144875 ]\n",
      " [0.71582613 0.58170903 0.27273184 0.57255786]\n",
      " [0.63463968 0.5108448  0.56522193 0.26258621]]\n"
     ]
    },
    {
     "data": {
      "text/plain": [
       "([array([1., 0., 0., 0., 0., 0., 1., 1., 0., 0.]),\n",
       "  array([0., 0., 0., 0., 0., 1., 1., 0., 0., 1.]),\n",
       "  array([0., 0., 1., 0., 0., 1., 0., 1., 0., 0.]),\n",
       "  array([1., 0., 1., 0., 0., 1., 0., 0., 0., 0.])],\n",
       " array([0.0144875 , 0.10809358, 0.20169967, 0.29530575, 0.38891183,\n",
       "        0.48251792, 0.576124  , 0.66973009, 0.76333617, 0.85694225,\n",
       "        0.95054834]),\n",
       " <a list of 4 Lists of Patches objects>)"
      ]
     },
     "execution_count": 5,
     "metadata": {},
     "output_type": "execute_result"
    }
   ],
   "source": [
    "import numpy as np\n",
    "import matplotlib.pyplot as plt\n",
    "\n",
    "x = np.random.rand(20) # Returns 20 random variables in a list\n",
    "y = np.random.rand(3,4) # Returns an array of 12 random variables in the shape defined within the paranthesis\n",
    "\n",
    "print(\"np.random.rand(20)= \")\n",
    "print(x)\n",
    "\n",
    "plt.hist(x)\n",
    "plt.show()\n",
    "\n",
    "print(\"np.random.rand(3,4)= \")\n",
    "print(y)\n",
    "plt.hist(y)\n"
   ]
  },
  {
   "cell_type": "markdown",
   "metadata": {},
   "source": [
    "***"
   ]
  },
  {
   "cell_type": "markdown",
   "metadata": {},
   "source": [
    "#### randn(d0, d1, …, dn)\n",
    "If in place of the suffix rand we used randn then the returned values within the array would be a random normal distribution filled with random floats sampled from a univariate “normal” (Gaussian) distribution of mean 0 and variance 1. This would be a typical bell curve arrangement as shown above where the trend trend towards 0. \n"
   ]
  },
  {
   "cell_type": "code",
   "execution_count": 71,
   "metadata": {
    "scrolled": true
   },
   "outputs": [
    {
     "data": {
      "text/plain": [
       "(array([ 20.,  56., 102., 197., 237., 188., 116.,  59.,  18.,   7.]),\n",
       " array([-2.64699426, -2.05539543, -1.46379659, -0.87219776, -0.28059892,\n",
       "         0.31099992,  0.90259875,  1.49419759,  2.08579642,  2.67739526,\n",
       "         3.2689941 ]),\n",
       " <a list of 10 Patch objects>)"
      ]
     },
     "execution_count": 71,
     "metadata": {},
     "output_type": "execute_result"
    },
    {
     "data": {
      "image/png": "[encoded data removed]",
      "text/plain": [
       "<Figure size 432x288 with 1 Axes>"
      ]
     },
     "metadata": {
      "needs_background": "light"
     },
     "output_type": "display_data"
    }
   ],
   "source": [
    "z = np.random.randn(1000)\n",
    "\n",
    "plt.hist(z)"
   ]
  },
  {
   "cell_type": "markdown",
   "metadata": {},
   "source": [
    "***"
   ]
  },
  {
   "cell_type": "markdown",
   "metadata": {},
   "source": [
    "#### randint(low[,high, size, dtype])\n",
    "\n",
    "This function returns an array of integers between values presented in the initial values of the paranthesis with the first value being inclusive and defined as the low and the second value being exclusive and being defined as the high. The size of the array is then defined by the size= section which follows the same rules of numpy.random.rand function above."
   ]
  },
  {
   "cell_type": "code",
   "execution_count": 74,
   "metadata": {},
   "outputs": [
    {
     "data": {
      "text/plain": [
       "array([[17,  3],\n",
       "       [10, 18],\n",
       "       [15, 17]])"
      ]
     },
     "execution_count": 74,
     "metadata": {},
     "output_type": "execute_result"
    }
   ],
   "source": [
    "np.random.randint(3,24,size=(3,2),dtype=int)"
   ]
  },
  {
   "cell_type": "markdown",
   "metadata": {},
   "source": [
    "***"
   ]
  },
  {
   "cell_type": "markdown",
   "metadata": {},
   "source": [
    "#### choice(a[, size, replace, p])\n",
    "This function returns a random sample from a 1 dimensional array. The \"a\" is the high limit from 0-a with \"a\" being exclusive. Size is the size of the array returned. The replace function defines if elements may be repeated. If replace is False then size must be $\\le$ a. The p is the probability of each indivdual element being displayed. The quantity of values in p must be equal to the quantity of elements defined by a. The values of p must also sum up to 1. If no p value is given a uniform distribution is assumed. "
   ]
  },
  {
   "cell_type": "code",
   "execution_count": 33,
   "metadata": {},
   "outputs": [
    {
     "data": {
      "text/plain": [
       "array([6, 4, 5, 2, 1])"
      ]
     },
     "execution_count": 33,
     "metadata": {},
     "output_type": "execute_result"
    }
   ],
   "source": [
    "np.random.choice(7, 5, replace=False, p=[0.3, 0.1, 0.05, 0.05, 0.25,0.1 , 0.15])"
   ]
  },
  {
   "cell_type": "markdown",
   "metadata": {},
   "source": [
    "***"
   ]
  },
  {
   "cell_type": "markdown",
   "metadata": {},
   "source": [
    "## Permutations<a id='Permutations'></a> \n",
    "Either randomly shuffle an existing sequence or generate and return a permutated sequence. The following are avaiable-\n",
    "<br> shuffle(x)\t\n",
    "**permutation(x)**\t"
   ]
  },
  {
   "cell_type": "markdown",
   "metadata": {},
   "source": []
  },
  {
   "cell_type": "code",
   "execution_count": 14,
   "metadata": {},
   "outputs": [
    {
     "data": {
      "text/plain": [
       "array([ 7, 98, 61, 54, 45, 36, 63])"
      ]
     },
     "execution_count": 14,
     "metadata": {},
     "output_type": "execute_result"
    }
   ],
   "source": [
    "np.random.permutation([7, 54, 36, 98, 45, 63, 61])"
   ]
  },
  {
   "cell_type": "markdown",
   "metadata": {},
   "source": [
    "***"
   ]
  },
  {
   "cell_type": "markdown",
   "metadata": {},
   "source": [
    "## Distributions<a id='Distributions'></a>\n",
    "This can draw samples from a number of different probability distributions. The following are avaiable-\n",
    "<br>beta(a, b[, size])\n",
    "<br>**binomial(n, p[, size])**\n",
    "<br>chisquare(df[, size])\n",
    "<br>dirichlet(alpha[, size])\n",
    "<br>exponential([scale, size])\n",
    "<br>f(dfnum, dfden[, size])\n",
    "<br>gamma(shape[, scale, size])\n",
    "<br>geometric(p[, size])\n",
    "<br>gumbel([loc, scale, size])\n",
    "<br>hypergeometric(ngood, nbad, nsample[, size])\n",
    "<br>laplace([loc, scale, size])\n",
    "<br>logistic([loc, scale, size])\n",
    "<br>**lognormal([mean, sigma, size])**\n",
    "<br>logseries(p[, size])\n",
    "<br>multinomial(n, pvals[, size])\n",
    "<br>multivariate_normal(mean, cov[, size, …)\n",
    "<br>negative_binomial(n, p[, size])\n",
    "<br>noncentral_chisquare(df, nonc[, size])\n",
    "<br>noncentral_f(dfnum, dfden, nonc[, size])\n",
    "<br>normal([loc, scale, size])\n",
    "<br>pareto(a[, size])\n",
    "<br>poisson([lam, size])\n",
    "<br>power(a[, size])\n",
    "<br>rayleigh([scale, size])\n",
    "<br>standard_cauchy([size])\n",
    "<br>**standard_exponential([size])**\n",
    "<br>standard_gamma(shape[, size])\n",
    "<br>standard_normal([size])\n",
    "<br>standard_t(df[, size])\n",
    "<br>triangular(left, mode, right[, size])\n",
    "<br>uniform([low, high, size])\n",
    "<br>vonmises(mu, kappa[, size])\n",
    "<br>wald(mean, scale[, size])\n",
    "<br>weibull(a[, size])\n",
    "<br>zipf(a[, size])"
   ]
  },
  {
   "cell_type": "code",
   "execution_count": 15,
   "metadata": {},
   "outputs": [
    {
     "data": {
      "text/plain": [
       "array([22, 26, 32, 25, 36, 29, 24, 21, 30, 26, 22, 29, 20, 26, 27, 26, 35,\n",
       "       20, 15, 17, 32, 26, 21, 22, 17, 22, 31, 21, 20, 25, 29, 27, 30, 24,\n",
       "       23, 27, 22, 34, 22, 21, 26, 27, 16, 20, 25, 29, 27, 24, 30, 27])"
      ]
     },
     "execution_count": 15,
     "metadata": {},
     "output_type": "execute_result"
    }
   ],
   "source": [
    "np.random.binomial(100, 0.25, 50)"
   ]
  },
  {
   "cell_type": "markdown",
   "metadata": {},
   "source": [
    "The above function does\n",
    "\n",
    "***"
   ]
  },
  {
   "cell_type": "code",
   "execution_count": 16,
   "metadata": {},
   "outputs": [
    {
     "data": {
      "text/plain": [
       "array([  34.05707177,   12.81902808,   24.83063362,    9.75710514,\n",
       "         90.69864318,  126.64211885,   26.23818984,   13.25641453,\n",
       "         18.66995221, 1665.72930006,    6.57935566,   12.33180656,\n",
       "         24.07757962,   72.5020884 ,   53.39237182,    6.8773491 ,\n",
       "         55.82462092,    9.91221763,   20.13053654,    6.65143333,\n",
       "          9.28863851,   20.18854131,   49.85265578,  102.00416682,\n",
       "         30.27002546,   20.11849731,    1.97208841,  151.00105962,\n",
       "         27.65280191,   16.44803105,   41.69540913,   12.20541602,\n",
       "        145.52409171,   14.63981172,    4.40996816,   45.44294528,\n",
       "         82.1725387 ,   15.04507127,  211.07030964,   60.39115976,\n",
       "         17.66135725,    8.38359792,   25.93245885,    9.29285534,\n",
       "         18.90046399,    9.80596442,   17.65979257,    2.65595194,\n",
       "          4.28243389,   71.55330295])"
      ]
     },
     "execution_count": 16,
     "metadata": {},
     "output_type": "execute_result"
    }
   ],
   "source": [
    "np.random.lognormal(3, 1, 50)"
   ]
  },
  {
   "cell_type": "markdown",
   "metadata": {},
   "source": [
    "The above function does\n",
    "\n",
    "***"
   ]
  },
  {
   "cell_type": "code",
   "execution_count": 17,
   "metadata": {},
   "outputs": [
    {
     "data": {
      "text/plain": [
       "array([4.83603516, 0.99665401, 0.37228646, 0.17692537, 1.13608971,\n",
       "       2.84170946, 0.24403734, 0.20562508, 0.75469515, 1.11736746,\n",
       "       0.19360526, 1.13112952, 0.78498337, 0.93884907, 0.02250761,\n",
       "       0.85203063, 0.02695891, 0.03830076, 0.06541224, 1.64440906,\n",
       "       0.51232123, 1.35433326, 0.46680976, 0.51897683, 4.82560916,\n",
       "       0.81065157, 0.22054295, 0.72418321, 0.98672519, 0.08115338,\n",
       "       0.2929853 , 2.99948323, 2.33696753, 1.53834027, 2.44785529,\n",
       "       2.60062163, 1.80283836, 0.12994464, 1.91541803, 0.48736214,\n",
       "       1.8359303 , 1.08514808, 0.91837897, 0.53588102, 1.63686315,\n",
       "       2.15564646, 0.44065646, 1.30009037, 0.35233657, 0.4365107 ])"
      ]
     },
     "execution_count": 17,
     "metadata": {},
     "output_type": "execute_result"
    }
   ],
   "source": [
    "np.random.standard_exponential(50)"
   ]
  },
  {
   "cell_type": "markdown",
   "metadata": {},
   "source": [
    "The above function does\n",
    "\n",
    "***"
   ]
  },
  {
   "cell_type": "markdown",
   "metadata": {},
   "source": [
    "## Random Generator<a id='Random'></a>\n",
    "This is a container for the Mersenne Twister pseudo-random number generator. The following are avaiable-\n",
    "<br>**RandomState([seed])**\n",
    "<br>seed([seed])\n",
    "<br>get_state()\n",
    "<br>set_state(state)"
   ]
  },
  {
   "cell_type": "code",
   "execution_count": 18,
   "metadata": {},
   "outputs": [
    {
     "data": {
      "text/plain": [
       "<mtrand.RandomState at 0x1773e434990>"
      ]
     },
     "execution_count": 18,
     "metadata": {},
     "output_type": "execute_result"
    }
   ],
   "source": [
    "np.random.RandomState(seed=50)"
   ]
  },
  {
   "cell_type": "markdown",
   "metadata": {},
   "source": [
    "The above function\n"
   ]
  },
  {
   "cell_type": "markdown",
   "metadata": {},
   "source": [
    "Source: https://docs.scipy.org/doc/numpy-1.15.1/reference/routines.random.html Accessed 22/10/19\n",
    "https://www.ibm.com/support/knowledgecenter/en/SSGNPV_1.1.3/dsx/markd-jupyter.html Accessed 22/10/19\n",
    "https://stattrek.com/probability-distributions/binomial.aspx Accessed 1/11/19\n",
    "https://stackoverflow.com/questions/40689152/what-does-replacement-mean-in-numpy-random-choice Accessed 3/11/19\n",
    "https://math.meta.stackexchange.com/questions/21841/how-to-type-greater-than-or-equal-to-symbols Accessed 3/11/19"
   ]
  }
 ],
 "metadata": {
  "kernelspec": {
   "display_name": "Python 3",
   "language": "python",
   "name": "python3"
  },
  "language_info": {
   "codemirror_mode": {
    "name": "ipython",
    "version": 3
   },
   "file_extension": ".py",
   "mimetype": "text/x-python",
   "name": "python",
   "nbconvert_exporter": "python",
   "pygments_lexer": "ipython3",
   "version": "3.7.1"
  }
 },
 "nbformat": 4,
 "nbformat_minor": 2
}
