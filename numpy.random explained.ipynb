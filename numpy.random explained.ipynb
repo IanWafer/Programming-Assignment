{
 "cells": [
  {
   "attachments": {},
   "cell_type": "markdown",
   "metadata": {},
   "source": [
    "numpy.random is a feature of the NumPy package in Python. It produces random samples of data using Bitgenerator and Generator to create samples from various statistical distributions. It can produce the below types of data-\n",
    "\n",
    "## Simple Random Data\n",
    "This include generating and returning random floats, integers shapes bytes and 1-D arrays. The type of data used is determined by the ending. The following are avaiable with examples shown below bolded-\n",
    "<br>**rand(d0, d1, …, dn)**\n",
    "<br>randn(d0, d1, …, dn)\n",
    "<br>**randint(low[,high, size, dtype])**\n",
    "<br>random_integers(low[, high, size])\n",
    "<br>random_sample([size])\n",
    "<br>random([size])\n",
    "<br>ranf([size])\n",
    "<br>**sample([size])**\n",
    "<br>choice(a[, size, replace, p])\n",
    "<br>bytes(length)"
   ]
  },
  {
   "cell_type": "code",
   "execution_count": 38,
   "metadata": {},
   "outputs": [
    {
     "data": {
      "text/plain": [
       "array([[0.23698733, 0.7703989 , 0.85195923, 0.59148674],\n",
       "       [0.21872512, 0.16767854, 0.70754265, 0.04237337],\n",
       "       [0.67556447, 0.59907018, 0.62834896, 0.74564573]])"
      ]
     },
     "execution_count": 38,
     "metadata": {},
     "output_type": "execute_result"
    }
   ],
   "source": [
    "import numpy\n",
    "\n",
    "numpy.random.rand(3,4)"
   ]
  },
  {
   "cell_type": "markdown",
   "metadata": {},
   "source": [
    "This function returns random floats from a uniform distribution of (0,1) in the shape of an array in the arrangement of the contents of the paranthesis in the form of numpy.random.rand(d0,d1,...,dn) where d$_{i}$ in the paranthesis is optional but if entered must be positive integers. If no argument is presented within the paranthesis a single float is returned.\n",
    "\n",
    "If in place of rand we used randn then the returned values within the array would be a random normal distribution filled with random floats sampled from a univariate “normal” (Gaussian) distribution of mean 0 and variance 1.\n",
    "\n",
    "\n",
    "***"
   ]
  },
  {
   "cell_type": "code",
   "execution_count": 28,
   "metadata": {},
   "outputs": [
    {
     "data": {
      "text/plain": [
       "array([[ 4,  9],\n",
       "       [19, 18],\n",
       "       [ 3, 20]])"
      ]
     },
     "execution_count": 28,
     "metadata": {},
     "output_type": "execute_result"
    }
   ],
   "source": [
    "numpy.random.randint(3,24,size=(3,2),dtype=int)"
   ]
  },
  {
   "cell_type": "markdown",
   "metadata": {},
   "source": [
    "The above function does\n",
    "\n",
    "***"
   ]
  },
  {
   "cell_type": "code",
   "execution_count": 26,
   "metadata": {},
   "outputs": [
    {
     "data": {
      "text/plain": [
       "array([0.82064055, 0.73100651, 0.17003771, 0.44110701, 0.98541602,\n",
       "       0.9013557 , 0.48392954, 0.9027864 , 0.60609817, 0.31673823])"
      ]
     },
     "execution_count": 26,
     "metadata": {},
     "output_type": "execute_result"
    }
   ],
   "source": [
    "numpy.random.sample(10)"
   ]
  },
  {
   "cell_type": "markdown",
   "metadata": {},
   "source": [
    "The above function does\n",
    "\n",
    "***"
   ]
  },
  {
   "cell_type": "markdown",
   "metadata": {},
   "source": [
    "## Permutations \n",
    "Either randomly shuffle an existing sequence or generate and return a permutated sequence. The following are avaiable-\n",
    "<br> shuffle(x)\t\n",
    "**permutation(x)**\t"
   ]
  },
  {
   "cell_type": "code",
   "execution_count": 29,
   "metadata": {},
   "outputs": [
    {
     "data": {
      "text/plain": [
       "array([61,  7, 45, 98, 36, 63, 54])"
      ]
     },
     "execution_count": 29,
     "metadata": {},
     "output_type": "execute_result"
    }
   ],
   "source": [
    "numpy.random.permutation([7, 54, 36, 98, 45, 63, 61])"
   ]
  },
  {
   "cell_type": "markdown",
   "metadata": {},
   "source": [
    "The above function does\n",
    "\n",
    "***"
   ]
  },
  {
   "cell_type": "markdown",
   "metadata": {},
   "source": [
    "## Distributions\n",
    "This can draw samples from a number of different distributions. The following are avaiable-\n",
    "<br>beta(a, b[, size])\n",
    "<br>**binomial(n, p[, size])**\n",
    "<br>chisquare(df[, size])\n",
    "<br>dirichlet(alpha[, size])\n",
    "<br>exponential([scale, size])\n",
    "<br>f(dfnum, dfden[, size])\n",
    "<br>gamma(shape[, scale, size])\n",
    "<br>geometric(p[, size])\n",
    "<br>gumbel([loc, scale, size])\n",
    "<br>hypergeometric(ngood, nbad, nsample[, size])\n",
    "<br>laplace([loc, scale, size])\n",
    "<br>logistic([loc, scale, size])\n",
    "<br>**lognormal([mean, sigma, size])**\n",
    "<br>logseries(p[, size])\n",
    "<br>multinomial(n, pvals[, size])\n",
    "<br>multivariate_normal(mean, cov[, size, …)\n",
    "<br>negative_binomial(n, p[, size])\n",
    "<br>noncentral_chisquare(df, nonc[, size])\n",
    "<br>noncentral_f(dfnum, dfden, nonc[, size])\n",
    "<br>normal([loc, scale, size])\n",
    "<br>pareto(a[, size])\n",
    "<br>poisson([lam, size])\n",
    "<br>power(a[, size])\n",
    "<br>rayleigh([scale, size])\n",
    "<br>standard_cauchy([size])\n",
    "<br>**standard_exponential([size])**\n",
    "<br>standard_gamma(shape[, size])\n",
    "<br>standard_normal([size])\n",
    "<br>standard_t(df[, size])\n",
    "<br>triangular(left, mode, right[, size])\n",
    "<br>uniform([low, high, size])\n",
    "<br>vonmises(mu, kappa[, size])\n",
    "<br>wald(mean, scale[, size])\n",
    "<br>weibull(a[, size])\n",
    "<br>zipf(a[, size])"
   ]
  },
  {
   "cell_type": "code",
   "execution_count": 42,
   "metadata": {},
   "outputs": [
    {
     "data": {
      "text/plain": [
       "array([25, 31, 16, 28, 24, 28, 24, 21, 26, 21, 22, 30, 20, 24, 28, 23, 17,\n",
       "       18, 24, 30, 25, 20, 29, 26, 18, 25, 27, 27, 23, 24, 28, 26, 24, 17,\n",
       "       28, 26, 25, 29, 26, 28, 24, 29, 29, 24, 24, 20, 29, 23, 31, 31])"
      ]
     },
     "execution_count": 42,
     "metadata": {},
     "output_type": "execute_result"
    }
   ],
   "source": [
    "numpy.random.binomial(100, 0.25, 50)"
   ]
  },
  {
   "cell_type": "markdown",
   "metadata": {},
   "source": [
    "The above function does\n",
    "\n",
    "***"
   ]
  },
  {
   "cell_type": "code",
   "execution_count": 41,
   "metadata": {},
   "outputs": [
    {
     "data": {
      "text/plain": [
       "array([ 49.7386227 ,  18.8643931 ,  30.36262294,  11.37367929,\n",
       "        38.94332683,  12.01598367,  33.50998612,  13.00499127,\n",
       "         4.37493145,  27.02448768,  79.05563518,   2.73878774,\n",
       "        25.4220955 ,  13.06825306,  39.20266688,  16.61151913,\n",
       "        20.48009725,  12.59611463,   9.36110713,  66.9477224 ,\n",
       "        15.35115379,   5.6031321 ,  11.2564311 ,   9.05650141,\n",
       "        37.12300721, 135.46160281,  30.62452943,  51.14952523,\n",
       "        67.46404228,  49.91938773,   6.0858647 ,  66.85780215,\n",
       "        39.85682295,  14.76553963, 304.77518898,   8.81299373,\n",
       "        40.8665305 ,  17.75591165,  14.84347962,  69.61803605,\n",
       "        17.72712656,  84.17507494, 119.3344717 ,   7.35051037,\n",
       "        12.23047845,   3.99963496,  25.81140078,   3.90413376,\n",
       "         7.49070708,   5.54193031])"
      ]
     },
     "execution_count": 41,
     "metadata": {},
     "output_type": "execute_result"
    }
   ],
   "source": [
    "numpy.random.lognormal(3, 1, 50)"
   ]
  },
  {
   "cell_type": "markdown",
   "metadata": {},
   "source": [
    "The above function does\n",
    "\n",
    "***"
   ]
  },
  {
   "cell_type": "code",
   "execution_count": 40,
   "metadata": {},
   "outputs": [
    {
     "data": {
      "text/plain": [
       "array([0.36277995, 0.50192331, 0.47681244, 0.80906633, 0.51895371,\n",
       "       0.40852097, 0.56768805, 2.75136479, 0.37048821, 0.37544587,\n",
       "       0.55989792, 0.9796266 , 1.76733036, 0.58139068, 0.14833886,\n",
       "       1.17777371, 1.12057983, 2.18394923, 0.09468357, 2.32405204,\n",
       "       1.45488369, 3.73984079, 0.16287665, 0.14995288, 0.23353383,\n",
       "       0.14563703, 0.29921126, 0.11331626, 1.39712599, 1.15699793,\n",
       "       0.67171291, 1.25469757, 0.48396564, 0.2627635 , 0.02136193,\n",
       "       1.1525083 , 2.24303313, 0.35510954, 1.28166411, 1.11569733,\n",
       "       1.10227551, 1.88997267, 0.51986006, 1.26148478, 1.79777192,\n",
       "       2.95862458, 0.14706007, 0.96986853, 0.3941494 , 0.04486154])"
      ]
     },
     "execution_count": 40,
     "metadata": {},
     "output_type": "execute_result"
    }
   ],
   "source": [
    "numpy.random.standard_exponential(50)"
   ]
  },
  {
   "cell_type": "markdown",
   "metadata": {},
   "source": [
    "The above function does\n",
    "\n",
    "***"
   ]
  },
  {
   "cell_type": "markdown",
   "metadata": {},
   "source": [
    "## Random Generator\n",
    "This is a container for the Mersenne Twister pseudo-random number generator. The following are avaiable-\n",
    "<br>**RandomState([seed])**\n",
    "<br>seed([seed])\n",
    "<br>get_state()\n",
    "<br>set_state(state)"
   ]
  },
  {
   "cell_type": "code",
   "execution_count": 11,
   "metadata": {},
   "outputs": [
    {
     "data": {
      "text/plain": [
       "<mtrand.RandomState at 0x261e519fca8>"
      ]
     },
     "execution_count": 11,
     "metadata": {},
     "output_type": "execute_result"
    }
   ],
   "source": [
    "numpy.random.RandomState(seed=50)"
   ]
  },
  {
   "cell_type": "markdown",
   "metadata": {},
   "source": [
    "\n"
   ]
  },
  {
   "cell_type": "markdown",
   "metadata": {},
   "source": [
    "Source: https://docs.scipy.org/doc/numpy-1.15.1/reference/routines.random.html Accessed 22/10/19\n",
    "https://www.ibm.com/support/knowledgecenter/en/SSGNPV_1.1.3/dsx/markd-jupyter.html Accessed 22/10/19"
   ]
  }
 ],
 "metadata": {
  "kernelspec": {
   "display_name": "Python 3",
   "language": "python",
   "name": "python3"
  },
  "language_info": {
   "codemirror_mode": {
    "name": "ipython",
    "version": 3
   },
   "file_extension": ".py",
   "mimetype": "text/x-python",
   "name": "python",
   "nbconvert_exporter": "python",
   "pygments_lexer": "ipython3",
   "version": "3.7.1"
  }
 },
 "nbformat": 4,
 "nbformat_minor": 2
}
