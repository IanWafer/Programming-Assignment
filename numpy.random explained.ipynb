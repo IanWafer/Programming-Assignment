{
 "cells": [
  {
   "cell_type": "markdown",
   "metadata": {},
   "source": [
    "# The numpy.random Package\n",
    "\n",
    "Ian Wafer\n",
    "G00376322\n",
    "\n",
    "Programming for data analytics module no. 52465"
   ]
  },
  {
   "cell_type": "markdown",
   "metadata": {},
   "source": [
    "## Introduction\n",
    "\n",
    "NumPy is a specialist package that is essential for scientific computing in Python. It deals in various arrays from lists generally in a 2 dimensional array for performing calculations which Python cannot do in an efficient manner. Resizing photos or song conversions and any vector driven computations work most efficiently using a matrix operation making NumPuy an essential package. It has also become increasingly more important for machine learning and deep learning to make efficient use of vast quantities of numeric information. \n",
    "\n",
    "The numpy.random function within NumPy produces pseudorandom samples of data using Bitgenerator and Generator to create samples from various statistical distributions. There are numerous methods of displaying random data within certain limitations that would be beneficial in a research environment such as probability or bayesian statistics and so there are a range of different functions within the numpy.random package to account for a multitude of uses. Since it is impossible for a computer to generate truly random numbers the numpy.random packages has several varitions of the  It can produce data as described under the following below headings-\n",
    "\n",
    "[Simple Random Data](#Simple)\n",
    "<br>[Permutations](#Permutations)\n",
    "<br>[Distributions](#Distributions)\n",
    "<br>[Random Generator](#Random)\n",
    "***"
   ]
  },
  {
   "cell_type": "markdown",
   "metadata": {},
   "source": [
    "## Simple Random Data<a id='Simple'></a>\n",
    "\n",
    "This includes generating and returning random floats, integers shapes bytes and 1-D arrays. The type of data used is determined by the suffix. Simple random data can be used for generating data noise for determinging probability on empirically derived data. The following are avaiable with examples shown bolded below-\n",
    "<br>**rand(d0, d1, …, dn)**\n",
    "<br>**randn(d0, d1, …, dn)**\n",
    "<br>**randint(low[,high, size, dtype])**\n",
    "<br>random_integers(low[, high, size])\n",
    "<br>random_sample([size])\n",
    "<br>random([size])\n",
    "<br>ranf([size])\n",
    "<br>sample([size])\n",
    "<br>**choice(a[, size, replace, p])**\n",
    "<br>bytes(length)"
   ]
  },
  {
   "cell_type": "markdown",
   "metadata": {},
   "source": [
    "#### rand(d0, d1, …, dn) <a id='Rand'></a>\n",
    "This function returns random floats from a uniform distribution of [0,1) (inclusive of 0 and exclusive of 1 also know as a semi-open range) in the shape of an array in the arrangement of the contents of the paranthesis in the form of numpy.random.rand(d0,d1,...,dn) where d$_{i}$ in the paranthesis is optional but if entered must be positive integers. If no argument is presented within the paranthesis a single float is returned. If a negative integer or a float of any value is given within the paranthesis then this will result in an error. "
   ]
  },
  {
   "cell_type": "code",
   "execution_count": 2,
   "metadata": {
    "scrolled": false
   },
   "outputs": [
    {
     "name": "stdout",
     "output_type": "stream",
     "text": [
      "np.random.rand(20)= \n",
      "[0.62823833 0.21639296 0.75809167 0.08224785 0.24848448 0.08638602\n",
      " 0.07618056 0.95521317 0.9655742  0.06178412 0.4345046  0.71844218\n",
      " 0.18414522 0.04934834 0.35178754 0.23384389 0.07285644 0.25043745\n",
      " 0.66576323 0.04185057]\n"
     ]
    },
    {
     "data": {
      "text/plain": [
       "<Figure size 640x480 with 1 Axes>"
      ]
     },
     "metadata": {},
     "output_type": "display_data"
    },
    {
     "name": "stdout",
     "output_type": "stream",
     "text": [
      "np.random.rand(3,4)= \n",
      "[[0.70048533 0.02549024 0.66373483 0.38649489]\n",
      " [0.35080339 0.99347538 0.61983085 0.26427724]\n",
      " [0.80882245 0.55198687 0.34787616 0.51388353]]\n"
     ]
    },
    {
     "data": {
      "text/plain": [
       "([array([0., 0., 0., 1., 0., 0., 1., 0., 1., 0.]),\n",
       "  array([1., 0., 0., 0., 0., 1., 0., 0., 0., 1.]),\n",
       "  array([0., 0., 0., 1., 0., 0., 2., 0., 0., 0.]),\n",
       "  array([0., 0., 1., 1., 0., 1., 0., 0., 0., 0.])],\n",
       " array([0.02549024, 0.12228875, 0.21908727, 0.31588578, 0.4126843 ,\n",
       "        0.50948281, 0.60628132, 0.70307984, 0.79987835, 0.89667687,\n",
       "        0.99347538]),\n",
       " <a list of 4 Lists of Patches objects>)"
      ]
     },
     "execution_count": 2,
     "metadata": {},
     "output_type": "execute_result"
    }
   ],
   "source": [
    "import numpy as np\n",
    "import matplotlib.pyplot as plt\n",
    "\n",
    "rand = np.random.rand(20) # Returns 20 random variables in a list in the range [0,1)\n",
    "rand1 = np.random.rand(3,4) # Returns an array of 12 random variables in the shape defined within the paranthesisin the range [0,1)\n",
    "\n",
    "print('np.random.rand(20)= ')\n",
    "print(rand)\n",
    "plt.xlabel('Value')\n",
    "plt.ylabel('Occurences')\n",
    "plt.hist(rand)\n",
    "\n",
    "plt.show()\n",
    "\n",
    "print(\"np.random.rand(3,4)= \")\n",
    "print(rand1)\n",
    "plt.xlabel('Value')\n",
    "plt.ylabel('Occurences')\n",
    "plt.hist(rand1)\n"
   ]
  },
  {
   "cell_type": "markdown",
   "metadata": {},
   "source": [
    "***"
   ]
  },
  {
   "cell_type": "markdown",
   "metadata": {},
   "source": [
    "#### randn(d0, d1, …, dn)\n",
    "If in place of the suffix rand we used randn then the returned values within the array would be a random normal distribution filled with random floats sampled from a univariate “normal” (Gaussian) distribution of mean 0 and variance 1. This would be a typical bell curve arrangement as shown below where the trend is towards 0 with values in th e positive and negative sides.\n"
   ]
  },
  {
   "cell_type": "code",
   "execution_count": 6,
   "metadata": {
    "scrolled": false
   },
   "outputs": [
    {
     "data": {
      "text/plain": [
       "(array([ 18.,  43., 115., 203., 239., 193., 115.,  61.,  12.,   1.]),\n",
       " array([-2.7000221 , -2.10396613, -1.50791017, -0.91185421, -0.31579824,\n",
       "         0.28025772,  0.87631369,  1.47236965,  2.06842562,  2.66448158,\n",
       "         3.26053755]),\n",
       " <a list of 10 Patch objects>)"
      ]
     },
     "execution_count": 6,
     "metadata": {},
     "output_type": "execute_result"
    },
    {
     "data": {
      "image/png": "[encoded data removed]",
      "text/plain": [
       "<Figure size 432x288 with 1 Axes>"
      ]
     },
     "metadata": {
      "needs_background": "light"
     },
     "output_type": "display_data"
    }
   ],
   "source": [
    "randn = np.random.randn(1000)\n",
    "plt.xlabel('Value')\n",
    "plt.ylabel('Occurences')\n",
    "plt.hist(randn)"
   ]
  },
  {
   "cell_type": "markdown",
   "metadata": {},
   "source": [
    "***"
   ]
  },
  {
   "cell_type": "markdown",
   "metadata": {},
   "source": [
    "#### randint(low[,high, size, dtype])\n",
    "\n",
    "This function returns an array of integers between values presented in the initial values of the paranthesis with the first value being inclusive and defined as the low and the second value being exclusive and being defined as the high. The size of the array is then defined by the size= section which follows the same rules of numpy.random.rand function above."
   ]
  },
  {
   "cell_type": "code",
   "execution_count": 128,
   "metadata": {},
   "outputs": [
    {
     "data": {
      "text/plain": [
       "array([[15,  7],\n",
       "       [10, 21],\n",
       "       [ 4, 16]])"
      ]
     },
     "execution_count": 128,
     "metadata": {},
     "output_type": "execute_result"
    }
   ],
   "source": [
    "np.random.randint(3,24,size=(3,2),dtype=int) # Return an array in the 3x2 arrangement between the values of 3 (inclusive) and 24 (exclusive)"
   ]
  },
  {
   "cell_type": "markdown",
   "metadata": {},
   "source": [
    "***"
   ]
  },
  {
   "cell_type": "markdown",
   "metadata": {},
   "source": [
    "#### choice(a[, size, replace, p])\n",
    "This function returns a random sample from a 1 dimensional array. The \"a\" is the aray of input values. It is the high limit from 0-a with \"a\" being exclusive. it accepts Python lists, tuples and other Pyhton sequences. Size is the size of the array returned. The replace function defines if elements may be repeated. If replace is False then size must be $\\le$ a. The p is the probability of each indivdual element being displayed. The quantity of values in p must be equal to the quantity of elements defined by a. The values of p must also sum up to 1. If no p value is given a uniform distribution is assumed. "
   ]
  },
  {
   "cell_type": "code",
   "execution_count": 33,
   "metadata": {
    "scrolled": false
   },
   "outputs": [
    {
     "data": {
      "text/plain": [
       "array([6, 4, 5, 2, 1])"
      ]
     },
     "execution_count": 33,
     "metadata": {},
     "output_type": "execute_result"
    }
   ],
   "source": [
    "np.random.choice(7, 5, replace=False, p=[0.3, 0.1, 0.05, 0.05, 0.25, 0.1 , 0.15]) # Return an array of 5 choices from a dataset of 7 values with no repeating functions and with an unequal probability of choice."
   ]
  },
  {
   "cell_type": "markdown",
   "metadata": {},
   "source": [
    "***"
   ]
  },
  {
   "cell_type": "markdown",
   "metadata": {},
   "source": [
    "## Permutations<a id='Permutations'></a> \n",
    "Either randomly shuffle an existing sequence or generate and return a permutated sequence. The following are avaiable with a brief description of permutation below-\n",
    "<br> shuffle(x)\t\n",
    "**permutation(x)**\t"
   ]
  },
  {
   "cell_type": "markdown",
   "metadata": {},
   "source": [
    "#### permutation(x)\n",
    "\n",
    "This will return or alter a sequence of elements in an array. If the elements are defined in an array it will alter the sequence. If only an integer is presented as x then a number of elements equal to x will be generated. "
   ]
  },
  {
   "cell_type": "code",
   "execution_count": 130,
   "metadata": {},
   "outputs": [
    {
     "data": {
      "text/plain": [
       "array([3, 1, 6, 7, 0, 5, 9, 4, 2, 8])"
      ]
     },
     "execution_count": 130,
     "metadata": {},
     "output_type": "execute_result"
    }
   ],
   "source": [
    "np.random.permutation(10) # Return an array of 10 integers and alter the sequence returned"
   ]
  },
  {
   "cell_type": "code",
   "execution_count": 131,
   "metadata": {},
   "outputs": [
    {
     "data": {
      "text/plain": [
       "array([36, 45,  4, 61, 76, 98, 63])"
      ]
     },
     "execution_count": 131,
     "metadata": {},
     "output_type": "execute_result"
    }
   ],
   "source": [
    "np.random.permutation([76, 4, 36, 98, 45, 63, 61]) # Alter the array given to produce a different arrangement"
   ]
  },
  {
   "cell_type": "markdown",
   "metadata": {},
   "source": [
    "***"
   ]
  },
  {
   "cell_type": "markdown",
   "metadata": {},
   "source": [
    "## Distributions<a id='Distributions'></a>\n",
    "This can draw samples from a number of different probability distributions. The following are avail9'/able with a brief description of the bolded distributions-\n",
    "<br>beta(a, b[, size])\n",
    "<br>**binomial(n, p[, size])**\n",
    "<br>chisquare(df[, size])\n",
    "<br>dirichlet(alpha[, size])\n",
    "<br>exponential([scale, size])\n",
    "<br>f(dfnum, dfden[, size])\n",
    "<br>gamma(shape[, scale, size])\n",
    "<br>geometric(p[, size])\n",
    "<br>gumbel([loc, scale, size])\n",
    "<br>hypergeometric(ngood, nbad, nsample[, size])\n",
    "<br>laplace([loc, scale, size])\n",
    "<br>logistic([loc, scale, size])\n",
    "<br>**lognormal([mean, sigma, size])**\n",
    "<br>logseries(p[, size])\n",
    "<br>**multinomial(n, pvals[, size])**\n",
    "<br>multivariate_normal(mean, cov[, size, …)\n",
    "<br>negative_binomial(n, p[, size])\n",
    "<br>noncentral_chisquare(df, nonc[, size])\n",
    "<br>noncentral_f(dfnum, dfden, nonc[, size])\n",
    "<br>normal([loc, scale, size])\n",
    "<br>pareto(a[, size])\n",
    "<br>poisson([lam, size])\n",
    "<br>power(a[, size])\n",
    "<br>rayleigh([scale, size])\n",
    "<br>standard_cauchy([size])\n",
    "<br>**standard_exponential([size])**\n",
    "<br>standard_gamma(shape[, size])\n",
    "<br>standard_normal([size])\n",
    "<br>standard_t(df[, size])\n",
    "<br>triangular(left, mode, right[, size])\n",
    "<br>**uniform([low, high, size])**\n",
    "<br>vonmises(mu, kappa[, size])\n",
    "<br>wald(mean, scale[, size])\n",
    "<br>weibull(a[, size])\n",
    "<br>zipf(a[, size])"
   ]
  },
  {
   "cell_type": "markdown",
   "metadata": {},
   "source": [
    "#### binomial(n, p[, size])\n",
    "\n",
    "A binomial distribution is a distribution of numbers with a uniform probability of success determined over a number of Bernoulli trials where each outcome is independent of the others. It can be used to predict genetic phenotypes, outcomes in games of chance and defective products per batch, success rate of cold callers among a mulitude of others.\n",
    "\n",
    "In the case of the coding the n refers to the number of trials, p is the probability of success and size is the size of the return which can be used to run multiple runs of the same test in a single setting. \n",
    "\n",
    "In the example below we can see the result of how many occurences of a single card drawn from a deck of 52 cards if we run the experiment 200 times. This is then run another 1,000 times which each individual result shown. In the graph shown we can see the grouping of the majority of values around the 19 and 20 mark which is what would be expected."
   ]
  },
  {
   "cell_type": "code",
   "execution_count": 132,
   "metadata": {},
   "outputs": [
    {
     "data": {
      "text/plain": [
       "Text(0, 0.5, 'Occurences')"
      ]
     },
     "execution_count": 132,
     "metadata": {},
     "output_type": "execute_result"
    },
    {
     "data": {
      "image/png": "[encoded data removed]",
      "text/plain": [
       "<Figure size 432x288 with 1 Axes>"
      ]
     },
     "metadata": {
      "needs_background": "light"
     },
     "output_type": "display_data"
    }
   ],
   "source": [
    "a = np.random.binomial(1000, 1/52, 200) # The chance of drawing a single card from a deck run 1,000 times per experiment. Experiment to run 200 times.\n",
    "\n",
    "plt.hist(a, bins=25)\n",
    "plt.xlabel('Experiments')\n",
    "plt.ylabel('Occurences')"
   ]
  },
  {
   "cell_type": "markdown",
   "metadata": {},
   "source": [
    "***"
   ]
  },
  {
   "cell_type": "markdown",
   "metadata": {},
   "source": [
    "#### lognormal([mean, sigma, size])\n",
    "\n",
    "A log-normal distribution is a distribution of logarithmic values with a normal distribution. This is commonly used in financial institutions in the analysis of stock prices in calculating the compound return from the stock over a given time frame. Log normal distributions include all positive values while normal distributions can include negative random variables. \n",
    "\n",
    "The mean refers to the value from which the normal dsitribution is drawn with a default value of 0. Sigma refers to the standard deviation from the normal distribution. Standard deviation is a measure of the quantity of the group differs from the mean. This value has a default value of 1 and should always be greater than zero. Size refers to the size of the array generated.\n",
    "\n",
    "In the example below you can see an initial sharp increase and then steady quick decline toward 0.\n",
    "\n"
   ]
  },
  {
   "cell_type": "code",
   "execution_count": 133,
   "metadata": {},
   "outputs": [
    {
     "data": {
      "image/png": "[encoded data removed]",
      "text/plain": [
       "<Figure size 432x288 with 1 Axes>"
      ]
     },
     "metadata": {
      "needs_background": "light"
     },
     "output_type": "display_data"
    }
   ],
   "source": [
    "mu = 0\n",
    "sigma = 0.75\n",
    "\n",
    "randlog = np.random.lognormal(mu, sigma, 1000)\n",
    "\n",
    "count, bins, ignored = plt.hist(randlog, 100, normed=True, align='mid')\n",
    "x = np.linspace(min(bins), max(bins), 10000)\n",
    "pdf = (np.exp(-(np.log(x) - mu)**2 / (2 * sigma**2)) / (x * sigma * np.sqrt(2 * np.pi))) # Probability density function\n",
    "\n",
    "plt.plot(x, pdf, linewidth=2, color='r')\n",
    "plt.xlabel('Occurences')\n",
    "plt.ylabel('Value')\n",
    "plt.show()"
   ]
  },
  {
   "cell_type": "markdown",
   "metadata": {},
   "source": [
    "#### multinomial(n, pvals[, size])\n",
    "\n",
    "The multinomial distribution is a generalisation of the binomial distribution. The experiment is run a number of times defined by n with the probability of success in the pvals section. The returned values will be integers. The size then determines the quantity of arrays returned. In the example below we can see the results of drawing a single suit from a deck of cards f the experiment was run 100 times. "
   ]
  },
  {
   "cell_type": "code",
   "execution_count": 172,
   "metadata": {},
   "outputs": [
    {
     "data": {
      "text/plain": [
       "array([[25, 24, 26, 25],\n",
       "       [30, 28, 25, 17]])"
      ]
     },
     "execution_count": 172,
     "metadata": {},
     "output_type": "execute_result"
    }
   ],
   "source": [
    "np.random.multinomial(100, [13/52.]*4, size=2) # Return 2 arrays of results of running an experiment of drawing 1 suit (13 cards each) from a full deck 100 times."
   ]
  },
  {
   "cell_type": "markdown",
   "metadata": {},
   "source": [
    "***"
   ]
  },
  {
   "cell_type": "markdown",
   "metadata": {},
   "source": [
    "#### standard_exponential([size])\n",
    "\n",
    "The standard exponential draws a float or array from the standard exponential distributed. The exponential distribution is when an event occurs at an constant average rate and occurs independently of previous events and continuously. Its size is dictated by the value entered."
   ]
  },
  {
   "cell_type": "code",
   "execution_count": 88,
   "metadata": {},
   "outputs": [
    {
     "name": "stdout",
     "output_type": "stream",
     "text": [
      "[0.76095536 0.17718169 0.02377116 0.18427348 1.0997179  0.30502241\n",
      " 1.66294492 1.60195716 0.70917682 1.5671248  1.15589233 1.43410345\n",
      " 0.85768478 0.44533471 1.71228861 0.67921967 0.39770399 0.24169119\n",
      " 2.39580339 0.96219216 0.01332081 2.62606948 3.63519171 0.17672212\n",
      " 0.20020956 1.49625061 0.3324628  2.37206079 0.77358874 0.91151914\n",
      " 1.22432392 0.7988371  1.31953514 0.19444185 0.72730394 0.59244537\n",
      " 1.24313689 1.93637186 1.91386025 0.30934744 0.57862735 0.1032475\n",
      " 0.39748999 0.15584329 0.37226603 0.04128064 1.32758013 0.25263632\n",
      " 2.38783822 0.34720104 0.26387032 1.09094253 1.94320125 0.36826702\n",
      " 0.0405079  0.17085495 1.31469999 0.24610127 0.22195665 4.56705961\n",
      " 0.56206209 0.02924646 0.23910089 0.28875046 0.07214581 0.2094333\n",
      " 0.43181816 1.56185205 0.30323962 0.42944579 0.94250171 0.75255869\n",
      " 1.48648052 0.64255908 0.49385714 0.59672159 0.79133801 0.22375511\n",
      " 2.55291429 1.30630728 2.09661373 0.72860684 1.02759235 0.82355228\n",
      " 0.17774398 0.4322636  1.28639455 1.46285233 0.35083083 1.11142858\n",
      " 3.34664672 0.88810855 1.26654542 0.09983347 0.1762957  0.42082665\n",
      " 0.93782351 2.15419458 0.55713931 0.6895187 ]\n"
     ]
    },
    {
     "data": {
      "image/png": "[encoded data removed]",
      "text/plain": [
       "<Figure size 432x288 with 1 Axes>"
      ]
     },
     "metadata": {
      "needs_background": "light"
     },
     "output_type": "display_data"
    }
   ],
   "source": [
    "exp = np.random.standard_exponential(100) # Return an array of 100 results of random exponential factors\n",
    "print(exp)\n",
    "plt.hist(exp, 10)\n",
    "plt.show()"
   ]
  },
  {
   "cell_type": "markdown",
   "metadata": {},
   "source": [
    "#### uniform([low, high, size])\n",
    "\n",
    "This will return a random range of floats between the entered high and low values (low being inclusive and high exclusive). All values between the paremeters given are equally likely to occur. The quantity of numbers returned is determined by the size entered. \n"
   ]
  },
  {
   "cell_type": "code",
   "execution_count": 140,
   "metadata": {},
   "outputs": [
    {
     "name": "stdout",
     "output_type": "stream",
     "text": [
      "[0.65708601 0.16678951 0.22276235 0.54523726 0.7997898  0.52124914\n",
      " 0.40129854 0.00990591 0.02694333 0.36768965 0.83015855 0.53208367\n",
      " 0.44875815 0.88366185 0.24046826 0.81151679 0.08266863 0.9118291\n",
      " 0.47878667 0.44725893 0.16433785 0.41878037 0.28080587 0.08187782\n",
      " 0.28611158 0.72440951 0.21222036 0.10768944 0.5347322  0.92971992\n",
      " 0.73562075 0.48355704 0.11621217 0.73062121 0.03980275 0.31393232\n",
      " 0.93408836 0.53960059 0.85735893 0.36435198 0.64535082 0.56004945\n",
      " 0.47875435 0.78281135 0.65729039 0.1903782  0.94985516 0.33779776\n",
      " 0.97895943 0.29117305]\n"
     ]
    },
    {
     "data": {
      "image/png": "[encoded data removed]",
      "text/plain": [
       "<Figure size 432x288 with 1 Axes>"
      ]
     },
     "metadata": {
      "needs_background": "light"
     },
     "output_type": "display_data"
    }
   ],
   "source": [
    "uni = np.random.uniform(0,1,50) # Return 50 random floats in the range [0,1)\n",
    "print(uni)\n",
    "\n",
    "count, bins, ignored = plt.hist(uni, 15, normed=True)\n",
    "plt.plot(bins, np.ones_like(bins), linewidth=2, color='r')\n",
    "plt.show()"
   ]
  },
  {
   "cell_type": "markdown",
   "metadata": {},
   "source": [
    "***"
   ]
  },
  {
   "cell_type": "markdown",
   "metadata": {},
   "source": [
    "## Random Generator<a id='Random'></a>\n",
    "This is a container for the Mersenne Twister pseudo-random number generator. Computer random numbers appear to be randomly generated but are in fact derived from an initial seed using a deterministic algorithm. The seed is the starting point of the sequence. Seeds can be taken from the time on the computer, the temperature of the CPU or a variety of other varibales but is never truly random. If a person has the seed of a pseudo-random number generator then they have the ability to predict all generated numbers. The following are avaiable-\n",
    "<br>RandomState([seed])\n",
    "<br>**seed([seed])**\n",
    "<br>get_state()\n",
    "<br>set_state(state)"
   ]
  },
  {
   "cell_type": "markdown",
   "metadata": {},
   "source": [
    "#### seed([seed])\n",
    "\n",
    "Since numpy.random is only a pseudorandom generator we can use a seed to give us predictable results. This is useful when testing code. Essentially this gives us a starting point for the random generator. As shown below when the seed is reset to it's initial value it will produce the same results when asked for a random float using the numpy.random.rand function. This is repeatable with all numpy.random functions."
   ]
  },
  {
   "cell_type": "code",
   "execution_count": 9,
   "metadata": {},
   "outputs": [
    {
     "name": "stdout",
     "output_type": "stream",
     "text": [
      "[0.49460165 0.2280831  0.25547392 0.39632991 0.3773151 ]\n",
      "[0.49460165 0.2280831  0.25547392 0.39632991 0.3773151 ]\n"
     ]
    }
   ],
   "source": [
    "np.random.seed(50)\n",
    "print(np.random.rand(5))\n",
    "np.random.seed(50)\n",
    "print(np.random.rand(5))"
   ]
  },
  {
   "cell_type": "markdown",
   "metadata": {},
   "source": [
    "***"
   ]
  },
  {
   "cell_type": "markdown",
   "metadata": {},
   "source": [
    "## Sources-\n",
    "\n",
    "Docs.scipy.org. (2019). Random sampling (numpy.random) — NumPy v1.15 Manual. [online] Available at: https://docs.scipy.org/doc/numpy-1.15.1/reference/routines.random.html [Accessed 22 Oct. 2019].\n",
    "\n",
    "Ibm.com. (2019). IBM Knowledge Center. [online] Available at: https://www.ibm.com/support/knowledgecenter/en/SSGNPV_1.1.3/dsx/markd-jupyter.html [Accessed 22 Oct. 2019].\n",
    "\n",
    "\n",
    "Stattrek.com. (2019). Binomial Distribution. [online] Available at: https://stattrek.com/probability-distributions/binomial.aspx [Accessed 1 Nov. 2019].\n",
    "\n",
    "En.wikipedia.org. (2019). Binomial distribution. [online] Available at: https://en.wikipedia.org/wiki/Binomial_distribution [Accessed 1 Nov. 2019].\n",
    "\n",
    "QuantInsti. (2019). Python Numpy Tutorial: Installation, Arrays And Random Sampling. [online] Available at: https://blog.quantinsti.com/python-numpy-tutorial-installation-arrays-random-sampling/ [Accessed 3 Nov. 2019].\n",
    "\n",
    "Investopedia. (2019). Log-Normal Distribution. [online] Available at: https://www.investopedia.com/terms/l/log-normal-distribution.asp [Accessed 4 Nov. 2019].\n",
    "\n",
    "En.wikipedia.org. (2019). Log-normal distribution. [online] Available at: https://en.wikipedia.org/wiki/Log-normal_distribution [Accessed 4 Nov. 2019].\n",
    "\n",
    "Medium. (2019). Fun with the Binomial Distribution. [online] Available at: https://towardsdatascience.com/fun-with-the-binomial-distribution-96a5ecabf65b [Accessed 4 Nov. 2019].\n",
    "\n",
    "En.wikipedia.org. (2019). Random seed. [online] Available at: https://en.wikipedia.org/wiki/Random_seed [Accessed 9 Nov. 2019].\n",
    "\n",
    "Statistics How To. (2019). Random Seed: Definition - Statistics How To. [online] Available at: https://www.statisticshowto.datasciencecentral.com/random-seed-definition/ [Accessed 9 Nov. 2019].\n",
    "\n",
    "Pantha, N. (2019). What is seed in random number generation? - Quora. [online] Quora.com. Available at: https://www.quora.com/What-is-seed-in-random-number-generation [Accessed 9 Nov. 2019]."
   ]
  }
 ],
 "metadata": {
  "kernelspec": {
   "display_name": "Python 3",
   "language": "python",
   "name": "python3"
  },
  "language_info": {
   "codemirror_mode": {
    "name": "ipython",
    "version": 3
   },
   "file_extension": ".py",
   "mimetype": "text/x-python",
   "name": "python",
   "nbconvert_exporter": "python",
   "pygments_lexer": "ipython3",
   "version": "3.7.1"
  }
 },
 "nbformat": 4,
 "nbformat_minor": 2
}
