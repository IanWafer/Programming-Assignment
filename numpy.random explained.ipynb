{
 "cells": [
  {
   "cell_type": "markdown",
   "metadata": {},
   "source": [
    "# The numpy.random Package\n",
    "\n",
    "Ian Wafer\n",
    "G00376322\n",
    "\n",
    "Programming for data analytics module no. 52465"
   ]
  },
  {
   "cell_type": "markdown",
   "metadata": {},
   "source": [
    "## Introduction\n",
    "\n",
    "NumPy is a specialist package that is essential for scientific computing in Python. It deals in various arrays from lists generally in a 2 dimensional array for performing calculations which Python cannot do in an efficient manner. Resizing photos or song conversions and any vector driven computations work most efficiently using a matrix operation making NumPuy an essential package. It has also become increasingly more important for machine learning and deep learning to make efficient use of vast quantities of numeric information. \n",
    "\n",
    "The numpy.random function within NumPy produces pseudorandom samples of data using Bitgenerator and Generator to create samples from various statistical distributions. There are numerous methods of displaying random data within certain limitations that would be beneficial in a research environment such as probability or bayesian statistics and so there are a range of different functions within the numpy.random package to account for a multitude of uses. Since it is impossible for a computer to generate truly random numbers the numpy.random packages has several varitions of the  It can produce data as described under the following below headings-\n",
    "\n",
    "[Simple Random Data](#Simple)\n",
    "<br>[Permutations](#Permutations)\n",
    "<br>[Distributions](#Distributions)\n",
    "<br>[Random Generator](#Random)\n",
    "***"
   ]
  },
  {
   "cell_type": "markdown",
   "metadata": {},
   "source": [
    "## Simple Random Data<a id='Simple'></a>\n",
    "\n",
    "This includes generating and returning random floats, integers shapes bytes and 1-D arrays. The type of data used is determined by the suffix. Simple random data can be used for generating data noise for determinging probability on empirically derived data. The following are avaiable with examples shown bolded below-\n",
    "<br>**rand(d0, d1, …, dn)**\n",
    "<br>**randn(d0, d1, …, dn)**\n",
    "<br>**randint(low[,high, size, dtype])**\n",
    "<br>random_integers(low[, high, size])\n",
    "<br>random_sample([size])\n",
    "<br>random([size])\n",
    "<br>ranf([size])\n",
    "<br>sample([size])\n",
    "<br>**choice(a[, size, replace, p])**\n",
    "<br>bytes(length)"
   ]
  },
  {
   "cell_type": "markdown",
   "metadata": {},
   "source": [
    "#### rand(d0, d1, …, dn) <a id='Rand'></a>\n",
    "This function returns random floats from a uniform distribution of [0,1) (inclusive of 0 and exclusive of 1 also know as a semi-open range) in the shape of an array in the arrangement of the contents of the paranthesis in the form of numpy.random.rand(d0,d1,...,dn) where d$_{i}$ in the paranthesis is optional but if entered must be positive integers. If no argument is presented within the paranthesis a single float is returned. If a negative integer or a float of any value is given within the paranthesis then this will result in an error. "
   ]
  },
  {
   "cell_type": "code",
   "execution_count": 72,
   "metadata": {
    "scrolled": false
   },
   "outputs": [
    {
     "name": "stdout",
     "output_type": "stream",
     "text": [
      "np.random.rand(20)= \n",
      "[0.69058133 0.16362598 0.40828632 0.69399973 0.19032619 0.02465587\n",
      " 0.972414   0.22935215 0.76510387 0.99691402 0.82755909 0.76028292\n",
      " 0.01260353 0.07200302 0.25306038 0.209221   0.23369515 0.49183254\n",
      " 0.86485532 0.97979701]\n"
     ]
    },
    {
     "data": {
      "image/png": "[encoded data removed]",
      "text/plain": [
       "<Figure size 432x288 with 1 Axes>"
      ]
     },
     "metadata": {
      "needs_background": "light"
     },
     "output_type": "display_data"
    },
    {
     "name": "stdout",
     "output_type": "stream",
     "text": [
      "np.random.rand(3,4)= \n",
      "[[0.66909359 0.04270205 0.54479848 0.12284039]\n",
      " [0.50965366 0.76200153 0.69435009 0.7484583 ]\n",
      " [0.36609739 0.70300959 0.93958732 0.12677802]]\n"
     ]
    },
    {
     "data": {
      "text/plain": [
       "([array([0., 0., 0., 1., 0., 1., 1., 0., 0., 0.]),\n",
       "  array([1., 0., 0., 0., 0., 0., 0., 1., 1., 0.]),\n",
       "  array([0., 0., 0., 0., 0., 1., 0., 1., 0., 1.]),\n",
       "  array([2., 0., 0., 0., 0., 0., 0., 1., 0., 0.])],\n",
       " array([0.04270205, 0.13239058, 0.2220791 , 0.31176763, 0.40145616,\n",
       "        0.49114469, 0.58083321, 0.67052174, 0.76021027, 0.84989879,\n",
       "        0.93958732]),\n",
       " <a list of 4 Lists of Patches objects>)"
      ]
     },
     "execution_count": 72,
     "metadata": {},
     "output_type": "execute_result"
    },
    {
     "data": {
      "image/png": "[encoded data removed]",
      "text/plain": [
       "<Figure size 432x288 with 1 Axes>"
      ]
     },
     "metadata": {
      "needs_background": "light"
     },
     "output_type": "display_data"
    }
   ],
   "source": [
    "import numpy as np\n",
    "import matplotlib.pyplot as plt\n",
    "\n",
    "rand = np.random.rand(20) # Returns 20 random variables in a list in the range [0,1)\n",
    "rand1 = np.random.rand(3,4) # Returns an array of 12 random variables in the shape defined within the paranthesisin the range [0,1)\n",
    "\n",
    "print('np.random.rand(20)= ')\n",
    "print(rand)\n",
    "plt.xlabel('Value')\n",
    "plt.ylabel('Occurences')\n",
    "plt.hist(rand)\n",
    "\n",
    "plt.show()\n",
    "\n",
    "print(\"np.random.rand(3,4)= \")\n",
    "print(rand1)\n",
    "plt.xlabel('Value')\n",
    "plt.ylabel('Occurences')\n",
    "plt.hist(rand1)\n"
   ]
  },
  {
   "cell_type": "markdown",
   "metadata": {},
   "source": [
    "***"
   ]
  },
  {
   "cell_type": "markdown",
   "metadata": {},
   "source": [
    "#### randn(d0, d1, …, dn)\n",
    "If in place of the suffix rand we used randn then the returned values within the array would be a random normal distribution filled with random floats sampled from a univariate “normal” (Gaussian) distribution of mean 0 and variance 1. This would be a typical bell curve arrangement as shown below where the trend is towards 0 with values in th e positive and negative sides.\n"
   ]
  },
  {
   "cell_type": "code",
   "execution_count": 127,
   "metadata": {
    "scrolled": true
   },
   "outputs": [
    {
     "name": "stdout",
     "output_type": "stream",
     "text": [
      "np.random.randn(1000) \n",
      "[-7.39770496e-01 -1.49253372e+00 -9.20029475e-01  1.74942807e-01\n",
      "  8.67549348e-01 -5.04516169e-01  1.17373494e+00 -8.77428798e-01\n",
      " -6.13678419e-02  1.08926943e-01 -1.95614275e-01  3.58471302e-01\n",
      " -4.56984175e-01  3.34650986e-01 -1.09800851e+00  3.30252184e-01\n",
      "  1.04928206e+00 -5.83007340e-01  1.55118330e-01  5.99883698e-01\n",
      " -8.22536983e-01  4.55183925e-01 -1.59144226e-01 -3.99925220e-01\n",
      "  7.44394250e-01  1.13394465e+00  1.30017240e-01 -1.04288367e+00\n",
      "  8.70412811e-01 -1.65707044e+00 -2.58135882e-01 -2.50578481e+00\n",
      "  9.08847783e-01 -1.03934027e+00 -5.91289536e-03 -2.84633257e-01\n",
      " -9.81835158e-02  7.89010824e-01 -1.21560490e+00 -8.71505821e-01\n",
      "  1.98829610e-01 -4.77733767e-01  2.22357344e+00 -9.47415191e-01\n",
      "  3.22068299e-01 -6.22339494e-01  1.29174378e-02 -6.14740920e-01\n",
      "  7.28401098e-01 -1.00494103e+00 -1.40430951e+00  3.07132337e+00\n",
      " -3.36567654e-01 -2.63760570e-02 -1.75752637e+00 -1.80203735e-01\n",
      " -1.14851058e+00  4.52963053e-01 -7.62074986e-01  8.87977017e-01\n",
      "  1.11942057e+00  3.92963525e-01  7.36549446e-02  4.19005424e-01\n",
      " -2.30839133e-01 -8.08738639e-01 -1.86388119e-01 -3.95019865e-01\n",
      " -2.24182063e-01  1.59714971e+00  1.01462785e+00 -1.49341098e-01\n",
      "  3.74689129e-01 -1.18496646e-01  4.63703961e-01 -2.09134647e-01\n",
      " -8.31355347e-01  1.08694893e-01 -8.07751890e-01 -4.72680067e-01\n",
      "  6.46717410e-01 -4.06247583e-01 -1.05509322e+00  1.63916490e+00\n",
      "  1.57952671e+00  9.32619803e-01 -9.60982580e-01  2.54422011e-01\n",
      "  3.72028496e-01  5.60839135e-01  2.66147915e-01 -2.89213500e-01\n",
      " -1.54431469e+00 -1.26633786e+00  4.56844344e-01  2.23833432e-01\n",
      " -9.57648300e-01 -1.28092053e+00  1.76873522e+00  7.52418161e-02\n",
      " -9.31503644e-01  5.57709023e-01  7.35756151e-02  5.95338520e-01\n",
      " -1.76793011e-01  4.98976595e-02  8.75544712e-01 -2.18263354e-01\n",
      "  5.62323466e-01  7.57205828e-01 -4.79297005e-01 -1.52641479e+00\n",
      " -2.59861682e-01  8.51638771e-01  2.15935071e+00 -1.49979602e+00\n",
      " -1.10784548e+00 -2.40271439e-01 -9.05359262e-01  7.80528229e-01\n",
      " -7.44992420e-01  9.03164244e-01 -7.35204864e-03 -3.12735701e-01\n",
      " -4.46190720e-01  9.14584896e-01  5.13957673e-01  1.65928596e-01\n",
      " -4.49550284e-01 -1.90374106e+00 -9.45009652e-02  2.59700270e-01\n",
      "  4.12635654e-01  1.43379077e-02 -7.30785094e-01 -7.14498546e-02\n",
      " -7.86824121e-01  3.34470983e-01  9.50075894e-01 -1.16547292e+00\n",
      "  8.32627586e-01  2.03777749e-01 -1.59343816e+00  9.37202434e-01\n",
      " -7.24616048e-02 -1.01695768e+00 -6.88839663e-01 -5.82118884e-01\n",
      " -1.04617139e+00  3.63705245e-01 -6.76381685e-02  3.31528535e-01\n",
      "  1.45873613e+00 -1.11394630e+00  6.86878166e-01 -2.32065922e+00\n",
      "  1.02518997e+00 -1.92877233e+00  5.83149074e-01 -1.61477990e-01\n",
      " -4.55267046e-01 -9.05929474e-01  8.99388335e-01 -3.68860854e-01\n",
      " -2.13587066e-01 -2.99989444e-01 -5.50355018e-01  1.85154571e+00\n",
      " -6.26472052e-01  1.60032681e+00 -5.57052372e-01 -6.30040735e-01\n",
      " -7.20618758e-01  1.73261162e+00 -6.32998742e-01  5.60255753e-01\n",
      "  1.00960877e+00  2.80613634e+00 -2.48612256e-01 -3.34121066e-01\n",
      "  4.24766625e-01 -1.11351911e-01  7.44646406e-02 -1.57378481e-01\n",
      "  1.85214360e+00  2.70231273e-01 -4.45807901e-01 -7.92269071e-01\n",
      "  5.36230831e-01 -3.33095053e-01  1.12693563e+00  6.70324721e-02\n",
      "  1.81843839e+00 -1.47301002e+00 -4.37683511e-01 -1.38295171e-01\n",
      " -1.86220216e+00 -7.47524382e-01 -5.43250768e-01 -3.99544270e-01\n",
      " -6.52157922e-01  8.50667772e-02  2.94655423e-01 -9.97495296e-01\n",
      " -7.47093228e-01  5.55927145e-01 -1.76836934e+00  3.11180843e-01\n",
      " -7.10098072e-01 -5.88370418e-01  6.20464726e-01 -8.57573549e-01\n",
      "  9.28829033e-01  5.27271829e-01  6.54346328e-01  4.50837891e-01\n",
      " -7.09706348e-01 -1.81265160e+00 -2.97780371e-01  2.52814317e-01\n",
      " -9.57976737e-01  5.11512728e-01  8.97873449e-01  8.10398655e-01\n",
      "  1.80389772e+00 -4.45178804e-01 -1.35696020e+00 -1.34679099e+00\n",
      "  1.49292532e-01 -2.37836543e-01 -6.83132744e-01  4.24015654e-01\n",
      " -7.84063717e-01 -2.51726168e+00  1.09855336e+00 -1.47614594e+00\n",
      "  3.10263854e-02  7.37303510e-01 -1.61446268e-01 -2.83879027e-01\n",
      "  5.47640379e-01  1.37112874e+00 -1.97660472e-01  1.03790799e-02\n",
      " -1.60771352e+00 -1.07154696e+00 -1.15881368e-01 -7.67915488e-01\n",
      " -1.61100165e-01 -1.11060973e-01 -1.09989906e+00 -1.18860492e+00\n",
      "  2.55994349e-01 -3.99149997e-01  1.10335367e+00  4.30291532e-01\n",
      "  8.87970706e-01 -4.53791521e-01  4.63970822e-01 -1.21783799e+00\n",
      "  3.70646997e-02  8.12449045e-02 -1.25565306e-01 -9.77831039e-02\n",
      "  5.46877722e-01 -2.86513049e-02 -4.81963574e-01  1.23055929e-01\n",
      " -2.38933041e-02 -1.12720847e+00  3.59674195e-01 -1.34197468e-01\n",
      "  8.70388710e-01  4.94004398e-01  2.94068513e-01  3.51529129e-01\n",
      "  4.96785057e-01  1.40282384e+00 -8.81000421e-02 -6.80074923e-01\n",
      "  6.28382989e-01 -8.42539040e-01 -8.83205469e-01  1.09516922e+00\n",
      " -8.23890810e-01  9.99336408e-01  8.27960305e-01 -4.51437097e-01\n",
      "  8.64758065e-01 -1.57972053e-01 -1.05097721e-01 -1.12161775e+00\n",
      "  5.50578949e-01 -2.06907684e+00 -1.08879639e-02  1.71591966e+00\n",
      "  8.57601171e-01  3.81051716e-01 -9.22252292e-01  3.69104876e-03\n",
      " -7.00609737e-01  1.40789089e+00  6.49372999e-01 -1.09468277e+00\n",
      " -1.05682911e+00  1.34686165e+00 -1.55451870e+00  1.47230556e+00\n",
      " -7.56207268e-01  3.99693185e-01  5.57625552e-01  1.17451908e+00\n",
      " -5.51228251e-01  1.56163411e-02 -5.31183855e-01  1.53382593e+00\n",
      "  1.55598041e-01 -7.18414145e-01 -4.52856664e-01  5.09421455e-01\n",
      " -1.26009834e-01  7.14439157e-01 -7.70643396e-02 -5.31666925e-01\n",
      "  1.52118171e+00 -1.74826008e+00  3.03372242e-02  7.57687676e-01\n",
      "  1.20344451e+00  4.76037860e-01 -4.20907789e-01 -1.53440147e-01\n",
      " -8.55122380e-01 -9.57553713e-01  2.64797287e-01  5.37372744e-01\n",
      "  1.12622051e-01 -1.73926092e+00 -1.60336008e-01  1.40605572e+00\n",
      " -9.44879733e-01 -9.92307674e-01 -1.55791152e+00  6.64469628e-02\n",
      "  1.23233847e-01 -5.89906228e-01 -1.00044198e+00  1.33807506e+00\n",
      "  1.70912688e+00  7.08917943e-01  1.41822281e+00 -1.46219691e-01\n",
      "  9.24094137e-01 -2.53061167e+00  1.64180013e+00  1.61757317e+00\n",
      " -4.29409611e-01 -7.65820445e-01  6.97570573e-01 -1.07563610e+00\n",
      " -2.26591214e+00  3.26855078e-01 -8.70499903e-01 -1.80347043e+00\n",
      "  4.01824578e-01 -6.45828124e-01  3.35194249e-01 -1.85545549e+00\n",
      "  2.03291333e-01 -1.42930703e+00  1.01793815e+00 -9.43680001e-01\n",
      " -2.21020650e+00  5.69881497e-01 -1.30201093e+00 -4.74418580e-01\n",
      "  4.23290052e-01 -1.73792677e+00 -9.30106982e-01 -4.52941193e-03\n",
      "  3.01929686e-01  9.48256470e-01 -1.29874678e+00  1.86690574e-01\n",
      "  1.23832215e+00 -8.22157605e-01  3.45423790e-01  1.07927741e+00\n",
      " -8.06553243e-01 -2.01375258e-01 -1.24720268e+00 -7.14600531e-01\n",
      " -1.54064480e+00  1.21170165e+00  5.94393452e-01 -1.71130073e-01\n",
      " -3.56514755e-02  6.39611022e-01  7.16241140e-01  2.36546267e-02\n",
      " -9.56473998e-01  7.11245672e-01 -2.48678140e+00  4.91710268e-01\n",
      " -6.04586193e-01 -6.11750864e-01  3.98305363e-01  1.07555711e-01\n",
      " -9.61714244e-01 -3.62605122e-01 -5.69803819e-02 -5.07749088e-01\n",
      "  3.21220208e-01  1.13665751e+00  7.57452091e-01  8.20097205e-01\n",
      "  3.02917911e-01  3.02910324e-01  3.56212079e-01 -1.97981458e-02\n",
      "  2.25424593e+00  3.28758080e-01 -5.90588167e-01 -3.01019100e-01\n",
      " -1.51789020e-01 -1.94765374e+00 -5.91293356e-01 -1.79524279e+00\n",
      " -4.43567031e-02 -1.12156915e+00  8.76952243e-02  1.39233695e+00\n",
      "  2.29576535e-01  3.43450829e-02  9.63144684e-01  8.03865897e-02\n",
      "  1.68819583e-01 -3.50429504e-01 -1.87631639e+00 -2.20335992e-01\n",
      " -3.37908094e-01 -6.03284007e-02  5.52158158e-01 -6.10198359e-01\n",
      " -1.73469669e+00 -6.68570214e-01  4.62462223e-01 -1.87941837e-01\n",
      "  1.47351932e-02  1.17521925e+00 -1.46945854e+00  7.30447141e-02\n",
      "  6.06658230e-01  7.18440338e-01  5.04818917e-01  3.21698346e-01\n",
      "  1.83961266e+00  6.53748137e-01 -5.50250221e-01  6.19138149e-02\n",
      " -7.82897434e-01 -7.31145967e-01 -1.39837983e+00  1.15066736e+00\n",
      "  9.14514476e-02 -4.39620851e-02  2.03080382e+00  5.52774054e-01\n",
      "  7.19126954e-01  1.90729733e+00  1.21852982e+00  9.30698004e-01\n",
      "  1.46399461e-01 -1.24737107e-01  9.14859770e-01  2.80788025e-01\n",
      "  1.54611882e+00 -1.69716080e-01  3.68730921e-02  1.21464121e+00\n",
      " -1.50915188e+00 -7.17517080e-01  7.51885425e-02 -1.16649824e+00\n",
      "  8.89508915e-01  8.49458437e-01 -2.46671857e+00 -4.05885598e-01\n",
      "  1.39408697e-02  7.69827721e-01  1.76558800e-01  5.06076873e-01\n",
      " -4.13390727e-04  1.21877245e-01  1.88899052e+00 -6.56342327e-01\n",
      " -7.61213060e-01  4.86593003e-01  4.77855476e-01  1.24092656e+00\n",
      " -6.52196492e-01  1.03164611e-01 -7.34376138e-01 -1.50703389e+00\n",
      " -1.65173161e-01 -1.38134235e+00 -4.80451242e-01 -1.08903481e+00\n",
      " -1.50117381e+00  1.29052400e+00  4.56318567e-01  1.07965780e+00\n",
      " -5.63679221e-01 -1.20298185e+00  1.53082432e-01 -1.42530212e+00\n",
      "  2.46402095e+00 -1.34168373e-01 -1.18595456e+00 -9.15102108e-01\n",
      " -1.33536401e+00  1.41068903e+00 -6.38814034e-01 -1.00579148e+00\n",
      "  4.18777499e-02  7.31930083e-01 -2.08385814e+00 -1.51307107e+00\n",
      "  4.08167973e-01 -3.28967534e-02  4.58311727e-01  6.36807553e-02\n",
      "  2.05052921e-01  1.31219783e-01 -9.94995817e-01  2.27346025e-01\n",
      " -8.28069437e-01  5.25040808e-01 -1.34519267e+00 -6.95608573e-01\n",
      "  1.85138295e-01 -2.09604398e-01 -2.10667074e-01 -1.04342580e+00\n",
      " -1.11431082e+00 -3.91837689e-01 -8.65520147e-01  2.15839823e-02\n",
      "  2.68739940e+00 -5.22700067e-01  1.78161159e+00  1.14211525e-01\n",
      "  4.69802535e-01 -4.83818811e-01 -1.33684158e+00  5.95981460e-01\n",
      " -5.06989077e-01  7.31212165e-01 -3.18087547e-01 -3.49471303e-01\n",
      "  4.69704451e-01 -1.33013244e-01 -1.15160148e+00 -9.26904653e-01\n",
      " -9.40952867e-01  1.80932025e-01  1.56869829e+00  1.85991910e-01\n",
      " -2.29963955e+00 -3.44668223e-01 -2.03770681e+00  1.46450437e+00\n",
      "  6.16313002e-01  1.72776590e-01 -1.13362298e-01 -6.30732212e-01\n",
      "  2.39378288e-01 -2.37117377e+00 -4.17409191e-01 -1.24372357e+00\n",
      "  2.61069785e+00  1.07665759e+00 -7.83632601e-01 -6.89890296e-01\n",
      " -6.76010425e-01 -2.60822691e-01 -1.33250414e+00  1.08225685e+00\n",
      " -9.18081072e-02 -1.27333597e+00 -3.66271217e-01 -2.72895949e-01\n",
      " -9.12229562e-01  8.11338661e-01 -1.39759530e+00  9.97087910e-01\n",
      "  1.97253928e+00 -6.46699980e-01 -5.92591809e-01 -7.36429500e-01\n",
      "  1.10896600e+00 -5.34691887e-02  3.83549921e-01 -1.04247120e+00\n",
      " -6.83628333e-01 -9.35514390e-01 -2.25218801e-01  6.13329077e-01\n",
      "  6.10342828e-01 -1.24688656e+00 -5.90758709e-01  8.10175520e-01\n",
      "  1.18313540e-01  9.59953174e-01  1.87321621e-01  1.79453580e-01\n",
      "  4.98502577e-01 -9.58703547e-01  6.02065758e-02 -6.89754300e-01\n",
      "  1.88900588e+00 -7.74013746e-01 -9.04126776e-01  4.02528022e-02\n",
      " -1.34638261e-01 -3.21743727e-02 -7.76787508e-01 -1.33232861e+00\n",
      " -1.08595492e+00 -1.48873187e+00  1.33133806e-02  1.27006405e+00\n",
      "  6.36711424e-01 -6.23468513e-01 -6.74707296e-01  1.25373183e-01\n",
      "  8.09234463e-01 -1.08956497e+00 -1.55346796e-01  1.02230622e+00\n",
      " -2.43735618e+00 -8.46515120e-01 -1.74004374e+00 -1.28693375e+00\n",
      "  4.23891492e-01  4.17941006e-01  1.77772381e-01 -1.58323440e-01\n",
      " -3.65265585e-01  8.12446945e-02  4.20038954e-01  2.32553719e-01\n",
      " -5.83120535e-01 -1.17731382e+00 -1.22483651e-01  1.58799205e+00\n",
      "  5.96201124e-01  9.62802860e-01  1.38471258e+00 -7.15356797e-01\n",
      "  3.11604815e+00 -1.73670230e+00  1.68801724e-01  5.40847183e-01\n",
      "  1.48295791e-01  1.13282500e+00 -9.25562947e-01  2.03443400e+00\n",
      " -1.49911045e+00  3.39584799e-01  4.27443496e-01  9.18717302e-01\n",
      " -1.05585490e+00 -7.82319176e-02 -1.20897879e+00  1.88943707e-02\n",
      "  9.96469876e-02  1.23343166e+00 -1.85135891e+00  6.22498321e-02\n",
      "  3.82935296e-01 -3.76867847e-01  6.50754336e-01  2.15686020e+00\n",
      "  5.47632009e-01  5.95406646e-01  4.42216016e-02 -9.01426838e-01\n",
      " -2.23544802e-01  7.97458463e-01 -2.53791611e-01  1.24058805e+00\n",
      " -2.16333399e-01  1.11229038e+00  9.54571236e-01 -1.70045236e-01\n",
      "  1.57331196e+00 -7.68271815e-01 -1.68835620e-01 -1.64491593e+00\n",
      " -5.40231278e-01 -1.32372675e+00 -4.61926676e-01 -1.74502957e-01\n",
      " -1.60103488e-01 -3.00373900e-02  2.41644377e-02 -3.19651422e-01\n",
      " -1.37521604e+00 -7.71864392e-01 -6.94503346e-01 -1.38921805e+00\n",
      " -6.97521484e-01  1.08337913e-01  5.23017883e-02 -1.95393797e-01\n",
      " -3.80527690e-01 -1.29623897e+00  7.23846978e-01 -4.87613368e-01\n",
      "  3.23823526e-01 -1.24181614e+00  7.84670664e-02  1.20529722e-01\n",
      " -7.21862366e-01 -1.43192253e+00  2.64366330e-01  6.04953813e-01\n",
      "  2.57923684e-01 -2.92597462e-01 -7.91753813e-01  1.49518980e-01\n",
      " -8.26434048e-01 -5.43208173e-01 -3.30481893e-01 -1.46439150e-02\n",
      " -7.97539219e-01  2.54161572e+00 -4.82229751e-02  1.12356549e+00\n",
      " -6.10597569e-01 -1.17850787e+00 -7.60848053e-01 -1.98968460e-01\n",
      "  1.73439082e+00 -3.67465734e-01 -2.75012172e-01  5.06476976e-01\n",
      " -1.18836485e+00  1.60699197e-02  1.21315246e+00  1.09145019e+00\n",
      " -9.65131873e-01 -3.51714451e-01 -5.13175294e-02  8.29301239e-01\n",
      " -5.12177877e-01  2.19697995e-01 -1.00683857e+00 -1.59140512e+00\n",
      " -1.01366549e+00  2.62681996e-01 -5.71251314e-01  1.09668870e+00\n",
      " -9.65275518e-01 -2.38876679e+00 -8.75842343e-01 -7.12358187e-01\n",
      "  1.02624270e+00  1.62372424e+00  2.35990181e+00 -9.68377639e-01\n",
      "  1.14747893e+00 -1.51570787e+00 -6.87739082e-01 -1.28099634e+00\n",
      " -1.50072384e+00 -1.02785027e-01 -1.45543669e+00  1.26878882e+00\n",
      "  7.02596957e-01  6.20654561e-01 -2.36356144e-01 -1.17803502e+00\n",
      " -2.44653457e-02 -1.18219062e+00 -1.64032412e-01 -1.84301476e+00\n",
      "  1.60424194e+00 -9.82001675e-01  1.05435843e-01 -8.21902808e-01\n",
      " -1.06423252e+00  5.32525511e-01  8.44186846e-01 -8.11482203e-02\n",
      "  4.19014947e-01 -8.38795234e-01  8.01766165e-01  3.99649130e-01\n",
      "  9.07407222e-01  2.29222182e+00 -1.84386983e+00  1.29957228e-01\n",
      " -1.81189531e-01 -5.36036220e-01  5.92165352e-01 -1.70919375e+00\n",
      " -8.48733765e-02 -9.59433984e-01  8.12892706e-02  2.68988479e-01\n",
      " -2.74940227e-01  9.09859772e-01  2.50990335e-03  1.90825299e+00\n",
      "  5.08502992e-01  8.89353268e-02 -2.59680634e-01  6.14672875e-02\n",
      "  1.57777380e+00 -1.16844616e+00  1.31236542e+00 -1.88742989e-01\n",
      "  3.81346908e-01 -1.13825929e+00  1.57304975e-01  9.89185786e-02\n",
      " -2.79434030e+00 -8.03308828e-01  1.12332513e+00 -1.22103121e+00\n",
      " -2.34528274e-01 -8.36004038e-01 -1.02615789e+00 -3.49415429e-03\n",
      "  9.49013126e-02 -2.41487696e-01  8.62462307e-01 -9.36737879e-01\n",
      "  5.64663882e-01 -1.49398550e-01 -1.47738376e+00  1.44825737e-01\n",
      "  3.07160146e-01  1.19948897e+00  1.03416353e+00 -7.10857287e-01\n",
      "  7.15160518e-01 -1.52331828e+00  5.76560218e-01 -6.81000889e-01\n",
      " -1.82828600e+00  1.03038696e+00 -2.27647948e+00 -3.98954922e-01\n",
      "  7.73039993e-02  8.24374631e-01 -2.07532989e+00  1.38828450e+00\n",
      "  1.30673899e+00  6.08094106e-01 -3.32235613e-01  1.84263539e+00\n",
      "  5.82171711e-01  3.57259205e-01  1.21556057e+00 -5.02748209e-01\n",
      "  7.80447685e-01  8.14985885e-01 -2.65068610e-01  6.35201362e-01\n",
      " -1.06970022e+00 -3.30988453e-01 -1.54156289e+00 -5.32766391e-01\n",
      "  1.63870952e-01 -1.35798937e+00  1.46924869e-01 -2.57829816e+00\n",
      "  1.24367443e+00 -7.89096231e-01 -4.90776809e-01  1.48184552e-01\n",
      " -2.93071807e-01 -8.01974645e-01  9.34411771e-01 -3.21502542e-01\n",
      "  1.53787387e+00 -8.73660759e-01 -4.90503475e-02  8.03638514e-01\n",
      " -1.32703864e+00  6.67739780e-01 -1.23793105e+00 -1.31619661e+00\n",
      "  5.65233065e-01  2.93200644e+00 -1.34613230e+00 -6.89381834e-01\n",
      "  1.32114489e+00 -5.04067964e-01  2.56965622e-01  3.10190300e-01\n",
      "  1.25134657e+00  1.92315475e-01 -2.25420009e-01  6.44869583e-01\n",
      "  1.52638174e-01  1.07340610e+00  1.52377709e-01 -1.60163973e+00\n",
      " -8.13084812e-01 -7.83173318e-01 -2.73056857e+00  9.27351975e-01\n",
      " -2.01113725e-01 -7.96370397e-01  1.05963080e-01  5.36055217e-01\n",
      "  9.15396339e-01 -7.82008900e-01 -1.50602957e+00 -5.42379667e-01\n",
      " -1.21331771e+00 -6.75337679e-01 -7.21465412e-01 -1.49503260e+00\n",
      " -3.44080647e-01  1.63506780e+00  1.62189517e+00  1.12148884e+00\n",
      "  1.09348983e+00  3.49419259e-01  7.45099416e-01  3.01656307e-01\n",
      "  2.43582204e-02  4.62441707e-01 -2.30427905e-02 -3.55749532e-01\n",
      " -7.37089012e-01 -7.87548997e-01 -7.20057130e-01  1.96743546e-01\n",
      " -7.68768808e-01  3.97391961e-01  1.15324780e+00 -1.88939097e-01\n",
      "  7.06997696e-01 -4.47340025e-01 -5.48853486e-01 -9.77613895e-01\n",
      "  5.40434509e-02 -3.85863212e-01  7.43122602e-01 -3.87923508e-02\n",
      "  5.07833439e-02 -1.12933988e+00 -4.73247097e-01 -1.79486881e-02\n",
      "  4.40390619e-01 -1.06366329e-01 -5.79643134e-01  1.89119726e+00\n",
      "  4.52705255e-01 -6.48890633e-01  6.37533188e-01 -2.32759641e-01\n",
      "  7.94087273e-01 -6.21094468e-02 -7.51023450e-01  1.66584342e+00\n",
      " -6.41039535e-01 -2.97877834e-01  5.57773604e-01  9.19802354e-01\n",
      "  3.79966238e-01  1.17176767e+00 -9.63004991e-01 -7.53782082e-01\n",
      "  2.01372910e-01  1.23704771e+00 -1.37640940e+00 -6.75334338e-01\n",
      " -1.85306796e+00 -8.07880114e-01 -9.71798895e-01  7.93148871e-01\n",
      "  6.23710176e-02 -8.88311917e-01  1.10740201e+00  3.09861760e-01\n",
      " -2.99594028e-01 -5.96850900e-02 -6.46164690e-01 -2.15467429e-01\n",
      "  3.98982761e-01  8.52357807e-01  1.48536396e+00 -1.37985061e+00]\n"
     ]
    },
    {
     "data": {
      "text/plain": [
       "(array([ 16.,  29., 109., 208., 254., 196., 121.,  50.,  10.,   7.]),\n",
       " array([-2.7943403 , -2.20330145, -1.61226261, -1.02122377, -0.43018492,\n",
       "         0.16085392,  0.75189277,  1.34293161,  1.93397046,  2.5250093 ,\n",
       "         3.11604815]),\n",
       " <a list of 10 Patch objects>)"
      ]
     },
     "execution_count": 127,
     "metadata": {},
     "output_type": "execute_result"
    },
    {
     "data": {
      "image/png": "[encoded data removed]",
      "text/plain": [
       "<Figure size 432x288 with 1 Axes>"
      ]
     },
     "metadata": {
      "needs_background": "light"
     },
     "output_type": "display_data"
    }
   ],
   "source": [
    "randn = np.random.randn(1000)\n",
    "print('np.random.randn(1000) ')\n",
    "print(randn)\n",
    "plt.xlabel('Value')\n",
    "plt.ylabel('Occurences')\n",
    "plt.hist(randn)"
   ]
  },
  {
   "cell_type": "markdown",
   "metadata": {},
   "source": [
    "***"
   ]
  },
  {
   "cell_type": "markdown",
   "metadata": {},
   "source": [
    "#### randint(low[,high, size, dtype])\n",
    "\n",
    "This function returns an array of integers between values presented in the initial values of the paranthesis with the first value being inclusive and defined as the low and the second value being exclusive and being defined as the high. The size of the array is then defined by the size= section which follows the same rules of numpy.random.rand function above."
   ]
  },
  {
   "cell_type": "code",
   "execution_count": 128,
   "metadata": {},
   "outputs": [
    {
     "data": {
      "text/plain": [
       "array([[15,  7],\n",
       "       [10, 21],\n",
       "       [ 4, 16]])"
      ]
     },
     "execution_count": 128,
     "metadata": {},
     "output_type": "execute_result"
    }
   ],
   "source": [
    "np.random.randint(3,24,size=(3,2),dtype=int) # Return an array in the 3x2 arrangement between the values of 3 (inclusive) and 24 (exclusive)"
   ]
  },
  {
   "cell_type": "markdown",
   "metadata": {},
   "source": [
    "***"
   ]
  },
  {
   "cell_type": "markdown",
   "metadata": {},
   "source": [
    "#### choice(a[, size, replace, p])\n",
    "This function returns a random sample from a 1 dimensional array. The \"a\" is the aray of input values. It is the high limit from 0-a with \"a\" being exclusive. it accepts Python lists, tuples and other Pyhton sequences. Size is the size of the array returned. The replace function defines if elements may be repeated. If replace is False then size must be $\\le$ a. The p is the probability of each indivdual element being displayed. The quantity of values in p must be equal to the quantity of elements defined by a. The values of p must also sum up to 1. If no p value is given a uniform distribution is assumed. "
   ]
  },
  {
   "cell_type": "code",
   "execution_count": 33,
   "metadata": {
    "scrolled": false
   },
   "outputs": [
    {
     "data": {
      "text/plain": [
       "array([6, 4, 5, 2, 1])"
      ]
     },
     "execution_count": 33,
     "metadata": {},
     "output_type": "execute_result"
    }
   ],
   "source": [
    "np.random.choice(7, 5, replace=False, p=[0.3, 0.1, 0.05, 0.05, 0.25, 0.1 , 0.15]) # Return an array of 5 choices from a dataset of 7 values with no repeating functions and with an unequal probability of choice."
   ]
  },
  {
   "cell_type": "markdown",
   "metadata": {},
   "source": [
    "***"
   ]
  },
  {
   "cell_type": "markdown",
   "metadata": {},
   "source": [
    "## Permutations<a id='Permutations'></a> \n",
    "Either randomly shuffle an existing sequence or generate and return a permutated sequence. The following are avaiable with a brief description of permutation below-\n",
    "<br> shuffle(x)\t\n",
    "**permutation(x)**\t"
   ]
  },
  {
   "cell_type": "markdown",
   "metadata": {},
   "source": [
    "#### permutation(x)\n",
    "\n",
    "This will return or alter a sequence of elements in an array. If the elements are defined in an array it will alter the sequence. If only an integer is presented as x then a number of elements equal to x will be generated. "
   ]
  },
  {
   "cell_type": "code",
   "execution_count": 130,
   "metadata": {},
   "outputs": [
    {
     "data": {
      "text/plain": [
       "array([3, 1, 6, 7, 0, 5, 9, 4, 2, 8])"
      ]
     },
     "execution_count": 130,
     "metadata": {},
     "output_type": "execute_result"
    }
   ],
   "source": [
    "np.random.permutation(10) # Return an array of 10 integers and alter the sequence returned"
   ]
  },
  {
   "cell_type": "code",
   "execution_count": 131,
   "metadata": {},
   "outputs": [
    {
     "data": {
      "text/plain": [
       "array([36, 45,  4, 61, 76, 98, 63])"
      ]
     },
     "execution_count": 131,
     "metadata": {},
     "output_type": "execute_result"
    }
   ],
   "source": [
    "np.random.permutation([76, 4, 36, 98, 45, 63, 61]) # Alter the array given to produce a different arrangement"
   ]
  },
  {
   "cell_type": "markdown",
   "metadata": {},
   "source": [
    "***"
   ]
  },
  {
   "cell_type": "markdown",
   "metadata": {},
   "source": [
    "## Distributions<a id='Distributions'></a>\n",
    "This can draw samples from a number of different probability distributions. The following are avail9'/able with a brief description of the bolded distributions-\n",
    "<br>beta(a, b[, size])\n",
    "<br>**binomial(n, p[, size])**\n",
    "<br>chisquare(df[, size])\n",
    "<br>dirichlet(alpha[, size])\n",
    "<br>exponential([scale, size])\n",
    "<br>f(dfnum, dfden[, size])\n",
    "<br>gamma(shape[, scale, size])\n",
    "<br>geometric(p[, size])\n",
    "<br>gumbel([loc, scale, size])\n",
    "<br>hypergeometric(ngood, nbad, nsample[, size])\n",
    "<br>laplace([loc, scale, size])\n",
    "<br>logistic([loc, scale, size])\n",
    "<br>**lognormal([mean, sigma, size])**\n",
    "<br>logseries(p[, size])\n",
    "<br>**multinomial(n, pvals[, size])**\n",
    "<br>multivariate_normal(mean, cov[, size, …)\n",
    "<br>negative_binomial(n, p[, size])\n",
    "<br>noncentral_chisquare(df, nonc[, size])\n",
    "<br>noncentral_f(dfnum, dfden, nonc[, size])\n",
    "<br>normal([loc, scale, size])\n",
    "<br>pareto(a[, size])\n",
    "<br>poisson([lam, size])\n",
    "<br>power(a[, size])\n",
    "<br>rayleigh([scale, size])\n",
    "<br>standard_cauchy([size])\n",
    "<br>**standard_exponential([size])**\n",
    "<br>standard_gamma(shape[, size])\n",
    "<br>standard_normal([size])\n",
    "<br>standard_t(df[, size])\n",
    "<br>triangular(left, mode, right[, size])\n",
    "<br>**uniform([low, high, size])**\n",
    "<br>vonmises(mu, kappa[, size])\n",
    "<br>wald(mean, scale[, size])\n",
    "<br>weibull(a[, size])\n",
    "<br>zipf(a[, size])"
   ]
  },
  {
   "cell_type": "markdown",
   "metadata": {},
   "source": [
    "#### binomial(n, p[, size])\n",
    "\n",
    "A binomial distribution is a distribution of numbers with a uniform probability of success determined over a number of Bernoulli trials where each outcome is independent of the others. It can be used to predict genetic phenotypes, outcomes in games of chance and defective products per batch, success rate of cold callers among a mulitude of others.\n",
    "\n",
    "In the case of the coding the n refers to the number of trials, p is the probability of success and size is the size of the return which can be used to run multiple runs of the same test in a single setting. \n",
    "\n",
    "In the example below we can see the result of how many occurences of a single card drawn from a deck of 52 cards if we run the experiment 200 times. This is then run another 1,000 times which each individual result shown. In the graph shown we can see the grouping of the majority of values around the 19 and 20 mark which is what would be expected."
   ]
  },
  {
   "cell_type": "code",
   "execution_count": 132,
   "metadata": {},
   "outputs": [
    {
     "data": {
      "text/plain": [
       "Text(0, 0.5, 'Occurences')"
      ]
     },
     "execution_count": 132,
     "metadata": {},
     "output_type": "execute_result"
    },
    {
     "data": {
      "image/png": "[encoded data removed]",
      "text/plain": [
       "<Figure size 432x288 with 1 Axes>"
      ]
     },
     "metadata": {
      "needs_background": "light"
     },
     "output_type": "display_data"
    }
   ],
   "source": [
    "a = np.random.binomial(1000, 1/52, 200) # The chance of drawing a single card from a deck run 1,000 times per experiment. Experiment to run 200 times.\n",
    "\n",
    "plt.hist(a, bins=25)\n",
    "plt.xlabel('Experiments')\n",
    "plt.ylabel('Occurences')"
   ]
  },
  {
   "cell_type": "markdown",
   "metadata": {},
   "source": [
    "***"
   ]
  },
  {
   "cell_type": "markdown",
   "metadata": {},
   "source": [
    "#### lognormal([mean, sigma, size])\n",
    "\n",
    "A log-normal distribution is a distribution of logarithmic values with a normal distribution. This is commonly used in financial institutions in the analysis of stock prices in calculating the compound return from the stock over a given time frame. Log normal distributions include all positive values while normal distributions can include negative random variables. \n",
    "\n",
    "The mean refers to the value from which the normal dsitribution is drawn with a default value of 0. Sigma refers to the standard deviation from the normal distribution. Standard deviation is a measure of the quantity of the group differs from the mean. This value has a default value of 1 and should always be greater than zero. Size refers to the size of the array generated.\n",
    "\n",
    "In the example below you can see an initial sharp increase and then steady quick decline toward 0.\n",
    "\n"
   ]
  },
  {
   "cell_type": "code",
   "execution_count": 133,
   "metadata": {},
   "outputs": [
    {
     "data": {
      "image/png": "[encoded data removed]",
      "text/plain": [
       "<Figure size 432x288 with 1 Axes>"
      ]
     },
     "metadata": {
      "needs_background": "light"
     },
     "output_type": "display_data"
    }
   ],
   "source": [
    "mu = 0\n",
    "sigma = 0.75\n",
    "\n",
    "randlog = np.random.lognormal(mu, sigma, 1000)\n",
    "\n",
    "count, bins, ignored = plt.hist(randlog, 100, normed=True, align='mid')\n",
    "x = np.linspace(min(bins), max(bins), 10000)\n",
    "pdf = (np.exp(-(np.log(x) - mu)**2 / (2 * sigma**2)) / (x * sigma * np.sqrt(2 * np.pi))) # Probability density function\n",
    "\n",
    "plt.plot(x, pdf, linewidth=2, color='r')\n",
    "plt.xlabel('Occurences')\n",
    "plt.ylabel('Value')\n",
    "plt.show()"
   ]
  },
  {
   "cell_type": "markdown",
   "metadata": {},
   "source": [
    "#### multinomial(n, pvals[, size])\n",
    "\n",
    "The multinomial distribution is a generalisation of the binomial distribution. The experiment is run a number of times defined by n with the probability of success in the pvals section. The returned values will be integers. The size then determines the quantity of arrays returned. In the example below we can see the results of drawing a single suit from a deck of cards f the experiment was run 100 times. "
   ]
  },
  {
   "cell_type": "code",
   "execution_count": 172,
   "metadata": {},
   "outputs": [
    {
     "data": {
      "text/plain": [
       "array([[25, 24, 26, 25],\n",
       "       [30, 28, 25, 17]])"
      ]
     },
     "execution_count": 172,
     "metadata": {},
     "output_type": "execute_result"
    }
   ],
   "source": [
    "np.random.multinomial(100, [13/52.]*4, size=2) # Return 2 arrays of results of running an experiment of drawing 1 suit (13 cards each) from a full deck 100 times."
   ]
  },
  {
   "cell_type": "markdown",
   "metadata": {},
   "source": [
    "***"
   ]
  },
  {
   "cell_type": "markdown",
   "metadata": {},
   "source": [
    "#### standard_exponential([size])\n",
    "\n",
    "The standard exponential draws a float or array from the standard exponential distributed. The exponential distribution is when an event occurs at an constant average rate and occurs independently of previous events and continuously. Its size is dictated by the value entered."
   ]
  },
  {
   "cell_type": "code",
   "execution_count": 88,
   "metadata": {},
   "outputs": [
    {
     "name": "stdout",
     "output_type": "stream",
     "text": [
      "[0.76095536 0.17718169 0.02377116 0.18427348 1.0997179  0.30502241\n",
      " 1.66294492 1.60195716 0.70917682 1.5671248  1.15589233 1.43410345\n",
      " 0.85768478 0.44533471 1.71228861 0.67921967 0.39770399 0.24169119\n",
      " 2.39580339 0.96219216 0.01332081 2.62606948 3.63519171 0.17672212\n",
      " 0.20020956 1.49625061 0.3324628  2.37206079 0.77358874 0.91151914\n",
      " 1.22432392 0.7988371  1.31953514 0.19444185 0.72730394 0.59244537\n",
      " 1.24313689 1.93637186 1.91386025 0.30934744 0.57862735 0.1032475\n",
      " 0.39748999 0.15584329 0.37226603 0.04128064 1.32758013 0.25263632\n",
      " 2.38783822 0.34720104 0.26387032 1.09094253 1.94320125 0.36826702\n",
      " 0.0405079  0.17085495 1.31469999 0.24610127 0.22195665 4.56705961\n",
      " 0.56206209 0.02924646 0.23910089 0.28875046 0.07214581 0.2094333\n",
      " 0.43181816 1.56185205 0.30323962 0.42944579 0.94250171 0.75255869\n",
      " 1.48648052 0.64255908 0.49385714 0.59672159 0.79133801 0.22375511\n",
      " 2.55291429 1.30630728 2.09661373 0.72860684 1.02759235 0.82355228\n",
      " 0.17774398 0.4322636  1.28639455 1.46285233 0.35083083 1.11142858\n",
      " 3.34664672 0.88810855 1.26654542 0.09983347 0.1762957  0.42082665\n",
      " 0.93782351 2.15419458 0.55713931 0.6895187 ]\n"
     ]
    },
    {
     "data": {
      "image/png": "[encoded data removed]",
      "text/plain": [
       "<Figure size 432x288 with 1 Axes>"
      ]
     },
     "metadata": {
      "needs_background": "light"
     },
     "output_type": "display_data"
    }
   ],
   "source": [
    "exp = np.random.standard_exponential(100) # Return an array of 100 results of random exponential factors\n",
    "print(exp)\n",
    "plt.hist(exp, 10)\n",
    "plt.show()"
   ]
  },
  {
   "cell_type": "markdown",
   "metadata": {},
   "source": [
    "#### uniform([low, high, size])\n",
    "\n",
    "This will return a random range of floats between the entered high and low values (low being inclusive and high exclusive). All values between the paremeters given are equally likely to occur. The quantity of numbers returned is determined by the size entered. \n"
   ]
  },
  {
   "cell_type": "code",
   "execution_count": 140,
   "metadata": {},
   "outputs": [
    {
     "name": "stdout",
     "output_type": "stream",
     "text": [
      "[0.65708601 0.16678951 0.22276235 0.54523726 0.7997898  0.52124914\n",
      " 0.40129854 0.00990591 0.02694333 0.36768965 0.83015855 0.53208367\n",
      " 0.44875815 0.88366185 0.24046826 0.81151679 0.08266863 0.9118291\n",
      " 0.47878667 0.44725893 0.16433785 0.41878037 0.28080587 0.08187782\n",
      " 0.28611158 0.72440951 0.21222036 0.10768944 0.5347322  0.92971992\n",
      " 0.73562075 0.48355704 0.11621217 0.73062121 0.03980275 0.31393232\n",
      " 0.93408836 0.53960059 0.85735893 0.36435198 0.64535082 0.56004945\n",
      " 0.47875435 0.78281135 0.65729039 0.1903782  0.94985516 0.33779776\n",
      " 0.97895943 0.29117305]\n"
     ]
    },
    {
     "data": {
      "image/png": "[encoded data removed]",
      "text/plain": [
       "<Figure size 432x288 with 1 Axes>"
      ]
     },
     "metadata": {
      "needs_background": "light"
     },
     "output_type": "display_data"
    }
   ],
   "source": [
    "uni = np.random.uniform(0,1,50) # Return 50 random floats in the range [0,1)\n",
    "print(uni)\n",
    "\n",
    "count, bins, ignored = plt.hist(uni, 15, normed=True)\n",
    "plt.plot(bins, np.ones_like(bins), linewidth=2, color='r')\n",
    "plt.show()"
   ]
  },
  {
   "cell_type": "markdown",
   "metadata": {},
   "source": [
    "***"
   ]
  },
  {
   "cell_type": "markdown",
   "metadata": {},
   "source": [
    "## Random Generator<a id='Random'></a>\n",
    "This is a container for the Mersenne Twister pseudo-random number generator. The following are avaiable-\n",
    "<br>**RandomState([seed])**\n",
    "<br>seed([seed])\n",
    "<br>get_state()\n",
    "<br>set_state(state)"
   ]
  },
  {
   "cell_type": "markdown",
   "metadata": {},
   "source": [
    "#### RandomState([seed])\n",
    "\n",
    "Since numpy.random is only a pseudorandom generator we can use a seed to give us predictable results. This is usefu when testing code. Essentially this gives us a starting point for the random generator. "
   ]
  },
  {
   "cell_type": "code",
   "execution_count": 18,
   "metadata": {},
   "outputs": [
    {
     "data": {
      "text/plain": [
       "<mtrand.RandomState at 0x1773e434990>"
      ]
     },
     "execution_count": 18,
     "metadata": {},
     "output_type": "execute_result"
    }
   ],
   "source": [
    "np.random.RandomState(seed=50)"
   ]
  },
  {
   "cell_type": "markdown",
   "metadata": {},
   "source": [
    "***"
   ]
  },
  {
   "cell_type": "markdown",
   "metadata": {},
   "source": [
    "Sources-\n",
    "\n",
    "Docs.scipy.org. (2019). Random sampling (numpy.random) — NumPy v1.15 Manual. [online] Available at: https://docs.scipy.org/doc/numpy-1.15.1/reference/routines.random.html [Accessed 22 Oct. 2019].\n",
    "\n",
    "Ibm.com. (2019). IBM Knowledge Center. [online] Available at: https://www.ibm.com/support/knowledgecenter/en/SSGNPV_1.1.3/dsx/markd-jupyter.html [Accessed 22 Oct. 2019].\n",
    "\n",
    "\n",
    "Stattrek.com. (2019). Binomial Distribution. [online] Available at: https://stattrek.com/probability-distributions/binomial.aspx [Accessed 1 Nov. 2019].\n",
    "\n",
    "En.wikipedia.org. (2019). Binomial distribution. [online] Available at: https://en.wikipedia.org/wiki/Binomial_distribution [Accessed 1 Nov. 2019].\n",
    "\n",
    "QuantInsti. (2019). Python Numpy Tutorial: Installation, Arrays And Random Sampling. [online] Available at: https://blog.quantinsti.com/python-numpy-tutorial-installation-arrays-random-sampling/ [Accessed 3 Nov. 2019].\n",
    "\n",
    "Investopedia. (2019). Log-Normal Distribution. [online] Available at: https://www.investopedia.com/terms/l/log-normal-distribution.asp [Accessed 4 Nov. 2019].\n",
    "\n",
    "En.wikipedia.org. (2019). Log-normal distribution. [online] Available at: https://en.wikipedia.org/wiki/Log-normal_distribution [Accessed 4 Nov. 2019].\n",
    "\n",
    "Medium. (2019). Fun with the Binomial Distribution. [online] Available at: https://towardsdatascience.com/fun-with-the-binomial-distribution-96a5ecabf65b [Accessed 4 Nov. 2019].\n",
    "\n",
    "En.wikipedia.org. (2019). Random seed. [online] Available at: https://en.wikipedia.org/wiki/Random_seed [Accessed 9 Nov. 2019].\n",
    "\n",
    "Statistics How To. (2019). Random Seed: Definition - Statistics How To. [online] Available at: https://www.statisticshowto.datasciencecentral.com/random-seed-definition/ [Accessed 9 Nov. 2019].\n",
    "\n",
    "Pantha, N. (2019). What is seed in random number generation? - Quora. [online] Quora.com. Available at: https://www.quora.com/What-is-seed-in-random-number-generation [Accessed 9 Nov. 2019]."
   ]
  }
 ],
 "metadata": {
  "kernelspec": {
   "display_name": "Python 3",
   "language": "python",
   "name": "python3"
  },
  "language_info": {
   "codemirror_mode": {
    "name": "ipython",
    "version": 3
   },
   "file_extension": ".py",
   "mimetype": "text/x-python",
   "name": "python",
   "nbconvert_exporter": "python",
   "pygments_lexer": "ipython3",
   "version": "3.7.1"
  }
 },
 "nbformat": 4,
 "nbformat_minor": 2
}
